{
 "cells": [
  {
   "cell_type": "markdown",
   "metadata": {},
   "source": [
    "[![Open In Colab](https://colab.research.google.com/assets/colab-badge.svg)](https://colab.research.google.com/github/PennNGG/Quantitative-Neuroscience/blob/master/Hypothesis%20Testing/Python/Simple%20Non%2dParametric%20Tests.ipynb)"
   ]
  },
  {
   "cell_type": "markdown",
   "metadata": {
    "id": "pKIiY6p3GRFq"
   },
   "source": [
    "# Definitions"
   ]
  },
  {
   "cell_type": "markdown",
   "metadata": {
    "id": "x7VmLUr5GTNw"
   },
   "source": [
    "When comparing the central tendencies (e.g., means) of two samples, if you know how the samples are distributed and/or *n* is large enough in each sample so that you can assume that their means are normally distributed via the Central Limit Theorem, then it is reasonable to use parametric hypothesis tests like a [*t*-test](https://colab.research.google.com/drive/1M7xjaMwJUEyULPHfXc3tWG6-WVjCl-uQ?usp=sharing). Otherwise, nonparametric tests should be used. \n",
    "\n",
    "There is an increasing understanding by neuroscientists and others that parametric tests, while they tend to be simple and convenient, often have assumptions that are not well justified and thus should be used only when appropriate. See, for example:\n",
    "\n",
    "[Running the Numbers](https://www.nature.com/articles/nn0205-123) from *Nature Neuroscience*, which discusses using nonparametric approaches when appropriate.\n",
    "\n",
    "[An evaluation of nonparametric approaches in clinical trials](https://bmcmedresmethodol.biomedcentral.com/articles/10.1186/1471-2288-5-35), which covers several of the tests described below.\n",
    "\n",
    "Here we will not dive deep into the math but instead will provide a more practical guide for when to use three common forms of nonparametric one- and two-sample tests."
   ]
  },
  {
   "cell_type": "markdown",
   "metadata": {
    "id": "5ULZKAuOBol4"
   },
   "source": [
    "\n",
    "# Getting started with code"
   ]
  },
  {
   "cell_type": "markdown",
   "metadata": {
    "id": "S57swuS-BwVO"
   },
   "source": [
    "Matlab code is found in the [NGG Statistics GitHub Repository](https://github.com/PennNGG/Statistics.git) under \"Hypothesis Testing/SimpleNonParametricTests.m\".\n",
    "\n",
    "Python code is included below. First run the code cell just below to make sure all of the required Python modules are loaded, then you can run the other cell(s)."
   ]
  },
  {
   "cell_type": "code",
   "execution_count": 3,
   "metadata": {},
   "outputs": [
    {
     "name": "stdout",
     "output_type": "stream",
     "text": [
      "Collecting statsmodels\n",
      "  Downloading statsmodels-0.14.5-cp39-cp39-macosx_10_9_x86_64.whl (10.1 MB)\n",
      "\u001b[2K     \u001b[90m━━━━━━━━━━━━━━━━━━━━━━━━━━━━━━━━━━━━━━━━\u001b[0m \u001b[32m10.1/10.1 MB\u001b[0m \u001b[31m37.5 MB/s\u001b[0m eta \u001b[36m0:00:00\u001b[0m \u001b[36m0:00:01\u001b[0m\n",
      "\u001b[?25hRequirement already satisfied: scipy!=1.9.2,>=1.8 in /Library/Frameworks/Python.framework/Versions/3.9/lib/python3.9/site-packages (from statsmodels) (1.10.1)\n",
      "Collecting patsy>=0.5.6\n",
      "  Downloading patsy-1.0.1-py2.py3-none-any.whl (232 kB)\n",
      "\u001b[2K     \u001b[90m━━━━━━━━━━━━━━━━━━━━━━━━━━━━━━━━━━━━━━\u001b[0m \u001b[32m232.9/232.9 KB\u001b[0m \u001b[31m29.6 MB/s\u001b[0m eta \u001b[36m0:00:00\u001b[0m\n",
      "\u001b[?25hRequirement already satisfied: pandas!=2.1.0,>=1.4 in /Library/Frameworks/Python.framework/Versions/3.9/lib/python3.9/site-packages (from statsmodels) (1.5.3)\n",
      "Requirement already satisfied: packaging>=21.3 in /Library/Frameworks/Python.framework/Versions/3.9/lib/python3.9/site-packages (from statsmodels) (24.1)\n",
      "Requirement already satisfied: numpy<3,>=1.22.3 in /Library/Frameworks/Python.framework/Versions/3.9/lib/python3.9/site-packages (from statsmodels) (1.26.4)\n",
      "Requirement already satisfied: python-dateutil>=2.8.1 in /Library/Frameworks/Python.framework/Versions/3.9/lib/python3.9/site-packages (from pandas!=2.1.0,>=1.4->statsmodels) (2.9.0.post0)\n",
      "Requirement already satisfied: pytz>=2020.1 in /Library/Frameworks/Python.framework/Versions/3.9/lib/python3.9/site-packages (from pandas!=2.1.0,>=1.4->statsmodels) (2024.1)\n",
      "Requirement already satisfied: six>=1.5 in /Library/Frameworks/Python.framework/Versions/3.9/lib/python3.9/site-packages (from python-dateutil>=2.8.1->pandas!=2.1.0,>=1.4->statsmodels) (1.16.0)\n",
      "Installing collected packages: patsy, statsmodels\n",
      "Successfully installed patsy-1.0.1 statsmodels-0.14.5\n",
      "\u001b[33mWARNING: You are using pip version 22.0.4; however, version 25.2 is available.\n",
      "You should consider upgrading via the '/Library/Frameworks/Python.framework/Versions/3.9/bin/python3.9 -m pip install --upgrade pip' command.\u001b[0m\u001b[33m\n",
      "\u001b[0mNote: you may need to restart the kernel to use updated packages.\n"
     ]
    }
   ],
   "source": [
    "pip install statsmodels"
   ]
  },
  {
   "cell_type": "code",
   "execution_count": 4,
   "metadata": {
    "id": "CjqTNogqBtUX"
   },
   "outputs": [],
   "source": [
    "import numpy as np\n",
    "import scipy.stats as st\n",
    "from statsmodels.stats.descriptivestats import sign_test"
   ]
  },
  {
   "cell_type": "markdown",
   "metadata": {
    "id": "nvmWeSSHSF95"
   },
   "source": [
    "# Sign test: one sample, skewed distribution"
   ]
  },
  {
   "cell_type": "markdown",
   "metadata": {
    "id": "bki88QRVSaj8"
   },
   "source": [
    "This test is applied to a single sample but is typically used for paired measurements to test the hypothesis that there is no systematic direction of a treatment effect (positive=the treatment resulted in a bigger value, negative=the treatment resulted in a smaller value), regardless of magnitude. The Null hypothesis is an equal probability of an effect either direction, so the data are treated as a [binomial distribution](https://colab.research.google.com/drive/1q1KaEjkAzUKRFSLPQ0SFdqU_byc70Oi2?usp=sharing) with *p*=0.5"
   ]
  },
  {
   "cell_type": "code",
   "execution_count": 5,
   "metadata": {
    "id": "NDfcV21FJ7v0"
   },
   "outputs": [
    {
     "name": "stdout",
     "output_type": "stream",
     "text": [
      "p=0.55\n"
     ]
    }
   ],
   "source": [
    "# Make some paired data\n",
    "a = [3,10,4,20,4,7,50,3,5,5,7]\n",
    "b = [5,9,10,15,6,5,43,6,2,1,0]\n",
    "diff = [bi-ai for ai, bi in zip(a,b)]\n",
    "_, p = sign_test(diff)\n",
    "print(f'p={p:.2f}')"
   ]
  },
  {
   "cell_type": "markdown",
   "metadata": {
    "id": "To3hA26GKjv0"
   },
   "source": [
    "# Wilcoxon signed-rank test: one sample or paired samples, symmetric distribution(s)"
   ]
  },
  {
   "cell_type": "markdown",
   "metadata": {
    "id": "QtK7ZyfjKojz"
   },
   "source": [
    "This test is typically used as a substitute for a [one-sample *t*-test](https://colab.research.google.com/drive/1M7xjaMwJUEyULPHfXc3tWG6-WVjCl-uQ?usp=sharing) and can be used to test the (null) hypothesis that a sample came from a population with a particular median value, or that the median values of two paired samples are equal to each other (i.e., the median of the difference distribution is zero)\n"
   ]
  },
  {
   "cell_type": "code",
   "execution_count": 6,
   "metadata": {
    "colab": {
     "base_uri": "https://localhost:8080/"
    },
    "executionInfo": {
     "elapsed": 97,
     "status": "ok",
     "timestamp": 1626630526050,
     "user": {
      "displayName": "Joshua Gold",
      "photoUrl": "https://lh3.googleusercontent.com/a-/AOh14GhY1fK-mWt81XFeafwTBs66lN9JXee76x713d4Y=s64",
      "userId": "06476168460066594437"
     },
     "user_tz": 240
    },
    "id": "yjGigVEMLWMP",
    "outputId": "1aef3c87-7610-4f79-abf8-c01145928cd8"
   },
   "outputs": [
    {
     "name": "stdout",
     "output_type": "stream",
     "text": [
      "p = 0.20\n"
     ]
    }
   ],
   "source": [
    "samples = np.random.randint(0, high=51, size=200)\n",
    "null_hypothesis_median = 24\n",
    "\n",
    "# Unlike in Matlab, the scipy implementation does not handle the case of comparing\n",
    "#  to a median other than zero, so we make this a (fake) paired two-sample test\n",
    "#  by subtracting the median from each value\n",
    "_, p = st.wilcoxon(samples-null_hypothesis_median)\n",
    "print(f'p = {p:.2f}')\n"
   ]
  },
  {
   "cell_type": "markdown",
   "metadata": {
    "id": "k_iBh6ZsLnX7"
   },
   "source": [
    "# Mann-Whitney: unpaired, two sample\n"
   ]
  },
  {
   "cell_type": "markdown",
   "metadata": {
    "id": "clnBO4FU28El"
   },
   "source": [
    "This is the test that is typically used as a substitute for a [two-sample *t*-test](https://colab.research.google.com/drive/1M7xjaMwJUEyULPHfXc3tWG6-WVjCl-uQ?usp=sharing) and can be used to test the hypothesis that the two unpaired samples come from distributions that differ by a particular median value.\n",
    "\n"
   ]
  },
  {
   "cell_type": "code",
   "execution_count": 7,
   "metadata": {
    "colab": {
     "base_uri": "https://localhost:8080/"
    },
    "executionInfo": {
     "elapsed": 121,
     "status": "ok",
     "timestamp": 1626630827326,
     "user": {
      "displayName": "Joshua Gold",
      "photoUrl": "https://lh3.googleusercontent.com/a-/AOh14GhY1fK-mWt81XFeafwTBs66lN9JXee76x713d4Y=s64",
      "userId": "06476168460066594437"
     },
     "user_tz": 240
    },
    "id": "vbhD1d9vOBCM",
    "outputId": "b29805f4-281f-4b5c-ce45-9dd09dab6c48"
   },
   "outputs": [
    {
     "name": "stdout",
     "output_type": "stream",
     "text": [
      "p = 0.25\n"
     ]
    }
   ],
   "source": [
    "X = np.random.randint(0, high=51, size=200)\n",
    "Y = 2 + np.random.randint(0, high=51, size=200)\n",
    "_, p = st.mannwhitneyu(X,Y)\n",
    "print(f'p = {p:.2f}')"
   ]
  },
  {
   "cell_type": "markdown",
   "metadata": {},
   "source": [
    "# Exercises"
   ]
  },
  {
   "cell_type": "markdown",
   "metadata": {},
   "source": [
    "### Scenario 1 (Question):\n",
    "\n",
    "You are a behavioral geologist measuring the reaction time of rocks in response to a tone. Specifically, you want to compare the median reaction time of geodes, to that of limestone. You recruit 20 rocks per group, and run your reaction-time experiment. What test would you use to compare median reaction times between geodes and limestone, and why?"
   ]
  },
  {
   "cell_type": "markdown",
   "metadata": {},
   "source": [
    "## Scenario 1 (Answer):\n",
    "\n",
    "Use a two-sample Wilcoxon rank-sum (Mann–Whitney U) test. Why: you’re comparing a continuous outcome between two independent groups and care about central tendency without assuming normality (reaction times are often skewed). The rank-sum test compares distributions’ locations; if the groups have similar shapes/spreads, it’s effectively a test of median differences. (If you want a test that targets the median specifically regardless of shape—but with less power—use Mood’s median test.)"
   ]
  },
  {
   "cell_type": "markdown",
   "metadata": {},
   "source": [
    "### Scenario 2 (Question):\n",
    "\n",
    "You are a brilliant scientist working at a biotech firm developing a vaccine that reverses aging. Wow! To test the efficacy of the vaccine, you recruit 50 people, give them a course of your vaccine, and measure their age with a (very) special scale before and after treatment. You want to start by refuting the simple that that the participants' measured ages are not changed by the treatment. What test do you use and why?"
   ]
  },
  {
   "cell_type": "markdown",
   "metadata": {},
   "source": [
    "## Scenario 2 (Answer)\n",
    "\n",
    "Use a paired t-test on the pre–post differences. Why: the same 50 participants are measured twice (within-subject design). The paired t-test directly tests whether the mean change (post − pre) differs from zero, leveraging each person as their own control and increasing power.\n",
    "If the difference scores are clearly non-normal or have heavy outliers, use the nonparametric Wilcoxon signed-rank test to test whether the median change ≠ 0."
   ]
  },
  {
   "cell_type": "markdown",
   "metadata": {},
   "source": [
    "### Scenario 3 (Question)\n",
    "\n",
    "You are a neuroeconomist and believe you have developed a wearable device that can change consumer preferences about a given product. To test your device, you present product X to a group of 40 individuals, and ask them to fill out a survery assessing how much they like the product (larger score means they like it more). Then, you have the individuals wear the device, present product X, and assess how much they like of the product. You want to know if the device reliably increases, decreases, or does not affect their liking of product X. What test would you use and why? What result would indicate that their liking has increased? "
   ]
  },
  {
   "cell_type": "markdown",
   "metadata": {},
   "source": [
    "## Scenario 3 (Answer)\n",
    "\n",
    "Use a paired t-test on the within-person change scores (After − Before). Why: the same 40 people are rated twice, so observations are paired; the paired t-test asks whether the mean change differs from 0. (If the change scores are very non-normal/outlier-ridden, use the Wilcoxon signed-rank test for the median change instead.) How to read the result: Define Δᵢ = Afterᵢ − Beforeᵢ. Test H₀: μΔ = 0 (two-sided). If p < α and Δ ˉ > 0 Δ ˉ >0 (or the 95% CI for μΔ is entirely > 0), liking increased. If p < α and Δ ˉ < 0 Δ ˉ <0 (CI entirely < 0), liking decreased. If p ≥ α (CI includes 0), no reliable change. (If your sole question is “did it increase?”, a one-sided paired t-test with Hₐ: μΔ > 0 is appropriate.)"
   ]
  },
  {
   "cell_type": "markdown",
   "metadata": {
    "id": "UqoNXyuxP-go"
   },
   "source": [
    "# Additional Resources\n"
   ]
  },
  {
   "cell_type": "markdown",
   "metadata": {
    "id": "tteEm2Qlgbb3"
   },
   "source": [
    "# Credits\n",
    "\n",
    "Copyright 2021 by Joshua I. Gold, University of Pennsylvania"
   ]
  }
 ],
 "metadata": {
  "colab": {
   "authorship_tag": "ABX9TyPTBLCOjaAgZ5OMnNN1DXrd",
   "collapsed_sections": [
    "pKIiY6p3GRFq",
    "5ULZKAuOBol4",
    "To3hA26GKjv0",
    "k_iBh6ZsLnX7"
   ],
   "name": "Simple Non-Parametric Tests",
   "provenance": [
    {
     "file_id": "1M7xjaMwJUEyULPHfXc3tWG6-WVjCl-uQ",
     "timestamp": 1626627394224
    },
    {
     "file_id": "1zwg2aPHoOY9aUMG4h_sm2SNpvCJMKRnK",
     "timestamp": 1626385093682
    },
    {
     "file_id": "1OQwscqCNG7QpyTmKaWLafklOUVIcOkW7",
     "timestamp": 1626375176143
    },
    {
     "file_id": "11kgk7FpLgbSlA4pjS4cCH1B5mYDUgj5b",
     "timestamp": 1626372577818
    },
    {
     "file_id": "1dvkIh9KgmzwwJ7phFBxkHmS3nFTKN_yo",
     "timestamp": 1626368223618
    },
    {
     "file_id": "1AmfvDhhfviRQFvONiUVUba_6hof8RDp6",
     "timestamp": 1626367834690
    },
    {
     "file_id": "1wTKRgKK5eDUya7FZRHeu1RaoY7kuhiGi",
     "timestamp": 1626364730636
    },
    {
     "file_id": "1rdJMusMZDTaM9OGsyt27tCVkSasmRj2O",
     "timestamp": 1626357708093
    },
    {
     "file_id": "1HW0L_d5Wpod3jbnY3iG7mLhMG6yWHvF2",
     "timestamp": 1626350171621
    },
    {
     "file_id": "1-KxH3FCq5rDyyO33HXxewIv-kKldkINi",
     "timestamp": 1626290714843
    },
    {
     "file_id": "14S2ca44h8TKC1hFXjk5ktwBYpGU6R5S-",
     "timestamp": 1624411796822
    }
   ],
   "toc_visible": true
  },
  "kernelspec": {
   "display_name": "Python 3 (ipykernel)",
   "language": "python",
   "name": "python3"
  },
  "language_info": {
   "codemirror_mode": {
    "name": "ipython",
    "version": 3
   },
   "file_extension": ".py",
   "mimetype": "text/x-python",
   "name": "python",
   "nbconvert_exporter": "python",
   "pygments_lexer": "ipython3",
   "version": "3.9.11"
  },
  "vscode": {
   "interpreter": {
    "hash": "aee8b7b246df8f9039afb4144a1f6fd8d2ca17a180786b69acc140d282b71a49"
   }
  }
 },
 "nbformat": 4,
 "nbformat_minor": 4
}
