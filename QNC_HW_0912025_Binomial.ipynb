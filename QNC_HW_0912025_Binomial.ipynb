{
 "cells": [
  {
   "cell_type": "markdown",
   "metadata": {},
   "source": [
    "[![Open In Colab](https://colab.research.google.com/assets/colab-badge.svg)](https://colab.research.google.com/github/PennNGG/Quantitative-Neuroscience/blob/master/Probability%20Distributions/Python/Binomial.ipynb)"
   ]
  },
  {
   "cell_type": "markdown",
   "metadata": {
    "id": "pKIiY6p3GRFq"
   },
   "source": [
    "# Definition"
   ]
  },
  {
   "cell_type": "markdown",
   "metadata": {
    "id": "x7VmLUr5GTNw"
   },
   "source": [
    "The binomial distribution is a discrete probability distribution that describes the probability of obtaining exactly k successes out of n Bernoulli trials, which are individual binary outcomes that each have a success probability of p. For example, if you flip a coin 10 times, what is the probability that it will come up heads 0, 1, 2, ... 10 times?\n",
    "\n",
    "Mathematically, this distribution defines the probability of obtaining *k* successes in *n* trials given a constant probability of success *p* on each trial, which is defined as:\n",
    "\n",
    "[1] $P(X=k\\: successes)=\\left ( \\frac{n}{k} \\right )p^{k}\\left ( 1-p \\right )^{n-k}$\n",
    "\n",
    "for *k* = 0, 1, 2, ... , *n*, and where\n",
    "\n",
    "$\\left ( \\frac{n}{k} \\right )=\\frac{n!}{k!\\left ( n-k \\right )!}$\n",
    "\n",
    " is called the \"binomial coefficient\" and is pronounced \"[n-choose-k](https://www.hackmath.net/en/calculator/n-choose-k)\""
   ]
  },
  {
   "cell_type": "markdown",
   "metadata": {
    "id": "bkVu6eGKIIiQ"
   },
   "source": [
    "# Getting Started with Code\n"
   ]
  },
  {
   "cell_type": "markdown",
   "metadata": {
    "id": "gxusMZ-UN_6m"
   },
   "source": [
    "Matlab code is found in the [NGG Statistics GitHub Repository](https://github.com/PennNGG/Statistics.git) under \"Probability Distributions/Binomial.m\".\n",
    "\n",
    "Python code is included below. First run the code cell just below to make sure all of the required Python modules are loaded, then you can run the other cell(s)."
   ]
  },
  {
   "cell_type": "code",
   "execution_count": 11,
   "metadata": {
    "executionInfo": {
     "elapsed": 101,
     "status": "ok",
     "timestamp": 1631886943334,
     "user": {
      "displayName": "Andy Revell",
      "photoUrl": "https://lh3.googleusercontent.com/a-/AOh14Gj5gNTTY1RDZJBZaP8Pnu_AnG7Wlu4JydmSsiPWXA=s64",
      "userId": "00217113324745895537"
     },
     "user_tz": 240
    },
    "id": "W633IbbRIdwa"
   },
   "outputs": [],
   "source": [
    "import numpy as np\n",
    "import random as rnd\n",
    "import collections\n",
    "import matplotlib.pyplot as plt\n",
    "import time\n",
    "import scipy.stats as st\n",
    "\n",
    "from scipy.stats import bernoulli, binom, poisson, chi2\n",
    "from IPython.display import clear_output\n",
    "from operator import itemgetter\n",
    "from statsmodels.stats import proportion\n",
    "\n",
    "from numpy import matlib"
   ]
  },
  {
   "cell_type": "markdown",
   "metadata": {
    "id": "u3yXPCmMH2CH"
   },
   "source": [
    "# Tutorial"
   ]
  },
  {
   "cell_type": "code",
   "execution_count": 2,
   "metadata": {
    "colab": {
     "base_uri": "https://localhost:8080/"
    },
    "executionInfo": {
     "elapsed": 131,
     "status": "ok",
     "timestamp": 1631886808679,
     "user": {
      "displayName": "Andy Revell",
      "photoUrl": "https://lh3.googleusercontent.com/a-/AOh14Gj5gNTTY1RDZJBZaP8Pnu_AnG7Wlu4JydmSsiPWXA=s64",
      "userId": "00217113324745895537"
     },
     "user_tz": 240
    },
    "id": "4ESB1xpmItGp",
    "outputId": "0dd49b33-f7a5-4a75-cea6-503746b10e39"
   },
   "outputs": [
    {
     "name": "stdout",
     "output_type": "stream",
     "text": [
      "697 successes out of 1000 trials, simulated p = 0.7000, empirical p = 0.6970\n"
     ]
    }
   ],
   "source": [
    "# Choose some values for the parameters n and p\n",
    "p = 0.7\n",
    "n = 1000\n",
    "\n",
    "# Generate random picks. Note that this is as if we generated Bernoulli trials \n",
    "#   as above, but then just counted the successes in each \"experiment\"\n",
    "num_successes = binom.rvs(n,p) # uses the \"random variates\" method (rvs) of binom\n",
    "\n",
    "# Print out the results\n",
    "print(f'{num_successes} successes out of {n} trials, simulated p = {p:.4f}, empirical p = {num_successes/n:.4f}')"
   ]
  },
  {
   "cell_type": "code",
   "execution_count": 3,
   "metadata": {
    "colab": {
     "base_uri": "https://localhost:8080/",
     "height": 295
    },
    "executionInfo": {
     "elapsed": 436,
     "status": "ok",
     "timestamp": 1631886810457,
     "user": {
      "displayName": "Andy Revell",
      "photoUrl": "https://lh3.googleusercontent.com/a-/AOh14Gj5gNTTY1RDZJBZaP8Pnu_AnG7Wlu4JydmSsiPWXA=s64",
      "userId": "00217113324745895537"
     },
     "user_tz": 240
    },
    "id": "AWJMhBIZIuFU",
    "outputId": "7ebf91ba-1b28-4fd3-ef17-cb1db4bd3d4f"
   },
   "outputs": [
    {
     "data": {
      "image/png": "[encoded data removed]",
      "text/plain": [
       "<Figure size 432x288 with 2 Axes>"
      ]
     },
     "metadata": {
      "needs_background": "light"
     },
     "output_type": "display_data"
    }
   ],
   "source": [
    "# The full probability distribution describes the probabilty of obtaining each \n",
    "#   possible number of successes (k), given n and p. If we set n=10, the the \n",
    "#   possible values of k are 0, 1, ..., 10. Now we use binom.rvs to simulate \n",
    "#   many different picks to get a full distribution\n",
    "p = 0.7\n",
    "n = 10                      # number of \"trials\" per \"experiment\"\n",
    "num_experiments = 1000;     # number of \"experiments\"\n",
    "outcomes = binom.rvs(n,p,size=num_experiments)\n",
    "\n",
    "# Show a bar plot (histogram) of all of the possible outcomes\n",
    "counts = collections.Counter(outcomes)\n",
    "plt.subplot(211)\n",
    "plt.bar(counts.keys(), counts.values())\n",
    "plt.xlim([-1, n+1])\n",
    "plt.title(f'Binomial distribution, n={n}, p={p:.2f}, {num_experiments} simulations')\n",
    "plt.ylabel('Count')\n",
    "\n",
    "# Show a normalized version that is a pdf. Here counts (the x-axis of the histogram) \n",
    "#   is a DISCRETE variable, so we just have to add up the values\n",
    "normalized_counts = {k: v / total for total in (sum(counts.values()),) for k, v in counts.items()}\n",
    "plt.subplot(212)\n",
    "plt.bar(normalized_counts.keys(), normalized_counts.values())\n",
    "plt.xlim([-1, n+1])\n",
    "plt.xlabel(f'Probability of success in {n} tries')\n",
    "plt.ylabel('Probability')\n",
    "plt.subplots_adjust(hspace=0.3)"
   ]
  },
  {
   "cell_type": "code",
   "execution_count": 4,
   "metadata": {
    "colab": {
     "base_uri": "https://localhost:8080/",
     "height": 295
    },
    "executionInfo": {
     "elapsed": 30994,
     "status": "ok",
     "timestamp": 1631886843879,
     "user": {
      "displayName": "Andy Revell",
      "photoUrl": "https://lh3.googleusercontent.com/a-/AOh14Gj5gNTTY1RDZJBZaP8Pnu_AnG7Wlu4JydmSsiPWXA=s64",
      "userId": "00217113324745895537"
     },
     "user_tz": 240
    },
    "id": "XxTbmZOSJEl8",
    "outputId": "cb4e6339-a209-4955-c8ae-5fe38a3cdee0"
   },
   "outputs": [
    {
     "data": {
      "image/png": "[encoded data removed]",
      "text/plain": [
       "<Figure size 432x288 with 1 Axes>"
      ]
     },
     "metadata": {
      "needs_background": "light"
     },
     "output_type": "display_data"
    }
   ],
   "source": [
    "# Now let's make a fun animation showing different values of p and N. \n",
    "#   Note that, of course, the more picks you make of the random variable \n",
    "#   (higher N), the more closely the outcomes (the \"samples\") match the true \n",
    "#   distribution.\n",
    "n=10\n",
    "xs = range(0, n)\n",
    "f = plt.figure()\n",
    "for p in np.arange(0, 1, 0.1):\n",
    "    for N in np.round(np.logspace(1,5,10)):\n",
    "\n",
    "        # Get the true binomial pdf\n",
    "        Y = binom.pmf(xs,n,p)\n",
    "\n",
    "        # Get the random picks, make histogram and normalize\n",
    "        counts = collections.Counter(binom.rvs(n,p,size=int(N)))\n",
    "        normalized_counts = {k: v / total for total in (sum(counts.values()),) for k, v in counts.items()}\n",
    "\n",
    "        # Show both\n",
    "        plt.bar(normalized_counts.keys(), normalized_counts.values())\n",
    "        plt.plot(xs, Y, 'ro-', linewidth=2, markersize=10)\n",
    "        \n",
    "        # Labels, etc\n",
    "        plt.title(f'p={p:.1f}, n={n}, N={N:.2f}')\n",
    "        plt.xlabel(f'Number of successes in {n} tries')\n",
    "        plt.ylabel('Probability')\n",
    "        plt.axis([-1, n+1, 0, 0.45])\n",
    "        plt.legend(('Theoretical', 'Simulated'))\n",
    "        plt.show()\n",
    "\n",
    "        # Wait\n",
    "        time.sleep(0.1)\n",
    "\n",
    "        # Clear for next plot\n",
    "        clear_output(wait=True)\n",
    "\n"
   ]
  },
  {
   "cell_type": "code",
   "execution_count": 6,
   "metadata": {
    "colab": {
     "base_uri": "https://localhost:8080/",
     "height": 312
    },
    "executionInfo": {
     "elapsed": 399,
     "status": "ok",
     "timestamp": 1631886849169,
     "user": {
      "displayName": "Andy Revell",
      "photoUrl": "https://lh3.googleusercontent.com/a-/AOh14Gj5gNTTY1RDZJBZaP8Pnu_AnG7Wlu4JydmSsiPWXA=s64",
      "userId": "00217113324745895537"
     },
     "user_tz": 240
    },
    "id": "kUAJ6LCyJbRN",
    "outputId": "a0b3758e-166e-4843-909c-92a5e5a68d10"
   },
   "outputs": [
    {
     "data": {
      "text/plain": [
       "<matplotlib.legend.Legend at 0x7f9c1930eed0>"
      ]
     },
     "execution_count": 6,
     "metadata": {},
     "output_type": "execute_result"
    },
    {
     "data": {
      "image/png": "[encoded data removed]",
      "text/plain": [
       "<Figure size 432x288 with 1 Axes>"
      ]
     },
     "metadata": {
      "needs_background": "light"
     },
     "output_type": "display_data"
    }
   ],
   "source": [
    "# The cumulative distribution function is just the proability of obtaining an \n",
    "#   outcome that is equal to OR LESS THAN a particular value.\n",
    "p = 0.7\n",
    "n = 10                      # number of \"trials\" per \"experiment\"\n",
    "num_experiments = 1000;     # number of \"experiments\"\n",
    "outcomes = binom.rvs(n,p,size=num_experiments)\n",
    "\n",
    "# Make histogram\n",
    "counts = collections.Counter(outcomes)\n",
    "\n",
    "# Unzip keys from values in a sorted order\n",
    "keys, values = zip(*sorted(counts.items(), key=itemgetter(0)))\n",
    "\n",
    "# Compute the cumulative sum of the counts normalized by the total counts (so \n",
    "#   it is a probability function and not just a histogram -- note that the final \n",
    "#   value in the cdf should equal 1 because every value should be equal to or \n",
    "#   less than that value).\n",
    "total = sum(values)\n",
    "cumulative_ps = [x/total for x in np.cumsum(values)]\n",
    "\n",
    "# Plot as a bar graph\n",
    "plt.bar(keys, cumulative_ps)\n",
    "\n",
    "# Compare it to the real binomial cumulative distribution, which we find \n",
    "#   using binom.cdf\n",
    "Y = binom.cdf(keys,n,p)\n",
    "plt.plot(keys, Y, 'ro-', linewidth=2, markersize=10)\n",
    "\n",
    "# Labels, etc\n",
    "plt.title(f'Cumulative binomial distribution, p={p:.1f}, n={n}, N={num_experiments}')\n",
    "plt.xlabel(f'Number of successes in {n} tries')\n",
    "plt.ylabel('Cumulative probability')\n",
    "plt.legend(('Theoretical', 'Simulated'))"
   ]
  },
  {
   "cell_type": "markdown",
   "metadata": {
    "id": "NPyYR5dgJ4Q9"
   },
   "source": [
    "# Neuroscience Example: Quantal Release"
   ]
  },
  {
   "cell_type": "markdown",
   "metadata": {
    "id": "Egvzk_qLKOYl"
   },
   "source": [
    "From: Johnson, E.W., and Wernig, A. (1971). [The binomial nature of transmitter release at the crayfish neuromuscular junction](https://www.ncbi.nlm.nih.gov/pmc/articles/PMC1331610/). J Physiol 218, 757-767. \n",
    "\n",
    "Classic studies by [Bernard Katz and colleagues](https://www.ncbi.nlm.nih.gov/pmc/articles/PMC2151334/) indicated that chemical neurotransmitters are released from presynaptic nerve terminals in discrete quanta, or packets, with a relatively constant release probability. A straightforward implication of this idea is that the release statistics (i.e., the distribution of the number of quanta that are actually released in response to a given event like an action potential reaching the presynaptic nerve terminal) should follow a binomial distribution. As stated by Johnson and Wernig:\n",
    "\n",
    "\"If the average probability of release is constant, then it follows from the hypothesis that the relative frequency of 0, 1, 2, 3, . . . quantal releases in a series of trials is given by the successive terms in the binomial expansion $(p + q)^n$, where *q*=1–*p* is the average probability that a quantum will not be released. In a given trial, the probability that *x* quanta will be released (*px*) is given by the binomial term\" [i.e., Eq. 1, above, but substitute *x* for *k*].\n",
    "\n",
    "In other words, if there are *n* available quanta in a presynaptic terminal, and each is released with probability *p*, then the number of quanta that are actually released should follow a binomial distribution with parameters *n* and *p*.\n",
    "\n",
    "Answers to the exercises below will be found [here](https://github.com/PennNGG/Quantitative-Neuroscience/tree/master/Answers%20to%20Exercises/Python) after the due date."
   ]
  },
  {
   "cell_type": "markdown",
   "metadata": {
    "id": "VveIEEiyLUSk"
   },
   "source": [
    "## Exercise 1\n",
    "Assume that there are 10 quanta available in a nerve terminal, and for a given release event each is released with a probability of 0.2. For one such event, what is the probability that 0, 1, 2, 3, 4, 5, 6, 7, 8, 9, or 10 quanta will be released?"
   ]
  },
  {
   "cell_type": "code",
   "execution_count": 5,
   "metadata": {},
   "outputs": [
    {
     "name": "stdout",
     "output_type": "stream",
     "text": [
      "k= 0  P(X=0) = 0.107374182\n",
      "k= 1  P(X=1) = 0.268435456\n",
      "k= 2  P(X=2) = 0.301989888\n",
      "k= 3  P(X=3) = 0.201326592\n",
      "k= 4  P(X=4) = 0.088080384\n",
      "k= 5  P(X=5) = 0.026424115\n",
      "k= 6  P(X=6) = 0.005505024\n",
      "k= 7  P(X=7) = 0.000786432\n",
      "k= 8  P(X=8) = 0.000073728\n",
      "k= 9  P(X=9) = 0.000004096\n",
      "k=10  P(X=10) = 0.000000102\n"
     ]
    }
   ],
   "source": [
    "import math\n",
    "\n",
    "def binom_pmf(n: int, p: float):\n",
    "    \"\"\"Return list of P(X=k) for k=0..n where X ~ Binomial(n, p).\"\"\"\n",
    "    q = 1.0 - p\n",
    "    return [math.comb(n, k) * (p ** k) * (q ** (n - k)) for k in range(n + 1)]\n",
    "\n",
    "n = 10   # Number of quanta\n",
    "p = 0.2 # Probabilty of release\n",
    "probs = binom_pmf(n, p)\n",
    "\n",
    "# Print a tidy table\n",
    "for k, pk in enumerate(probs):\n",
    "    print(f\"k={k:2d}  P(X={k}) = {pk:.9f}\")\n"
   ]
  },
  {
   "cell_type": "markdown",
   "metadata": {
    "id": "eG7Kvl5pL4jf"
   },
   "source": [
    "## Exercise 2\n",
    "Let's say you know that a given nerve terminal contains exactly 14 quanta available for release. You have read in the literature that the release probability of these quanta is low, say 0.1. To assess whether this value is reasonable, you run a simple experiment: activate the nerve and measure the number of quanta that are released. The result is 8 quanta. What is the probability that you would get this result (8 quanta) if the true probability of release really was 0.1? What about if the true release probability was much higher; say, 0.7? What about for each decile of release probability (0.1, 0.2, ... 1.0)? Which value of release probability did you determine to be the most probable, given your measurement?\n",
    "\n",
    "Note: here you are computing a likelihood function: a function describing how the value of the conditional probability *p*(*data* | *parameters*) changes when you hold your data fixed to the value(s) you measured and vary the value(s) of the parameter(s) of, in this case, the binomial distribution. Because you are varying the parameters and not the data, the values of the function are not expected to sum to one (e.g., you can have numerous parameters that have a very high probability of producing the given data) and thus this function is not a probability distribution (see [here](https://www.psychologicalscience.org/observer/bayes-for-beginners-probability-and-likelihood) for an extended discussion). The maximum value of this function is called the maximum likelihood. "
   ]
  },
  {
   "cell_type": "markdown",
   "metadata": {},
   "source": [
    "# Answer:\n",
    "When p=0.1:  P(X=8 | n=14, p) = 0.000015959173. When p=0.7:  P(X=8 | n=14, p) = 0.126202274068. Among the deciles, p=0.6 gives the highest likelihood."
   ]
  },
  {
   "cell_type": "code",
   "execution_count": 12,
   "metadata": {},
   "outputs": [
    {
     "name": "stdout",
     "output_type": "stream",
     "text": [
      "p=0.1:  P(X=8 | n=14, p) = 0.000015959173\n",
      "p=0.7:  P(X=8 | n=14, p) = 0.126202274068\n",
      "\n",
      "Deciles 0.1..1.0\n",
      "p=0.1  L=0.000015959173\n",
      "p=0.2  L=0.002015279186\n",
      "p=0.3  L=0.023180009523\n",
      "p=0.4  L=0.091821157908\n",
      "p=0.5  L=0.183288574219\n",
      "p=0.6  L=0.206597605294\n",
      "p=0.7  L=0.126202274068\n",
      "p=0.8  L=0.032244466975\n",
      "p=0.9  L=0.001292693032\n",
      "p=1.0  L=0.000000000000\n"
     ]
    }
   ],
   "source": [
    "import math\n",
    "\n",
    "n = 14 #n trials (available quanta)\n",
    "x = 8 #released quanta \n",
    "\n",
    "def binom_likelihood(p: float, n: int, x: int) -> float:\n",
    "    \"\"\"L(p) = P(X=x | n, p) for X ~ Binomial(n, p).\"\"\"\n",
    "    return math.comb(n, x) * (p ** x) * ((1 - p) ** (n - x))\n",
    "\n",
    "# Probabilities for p = 0.1 and p = 0.7\n",
    "for p in [0.1, 0.7]:\n",
    "    print(f\"p={p:.1f}:  P(X={x} | n={n}, p) = {binom_likelihood(p, n, x):.12f}\")\n",
    "\n",
    "print(\"\\nDeciles 0.1..1.0\")\n",
    "deciles = [i/10 for i in range(1, 11)]\n",
    "liks = [(p, binom_likelihood(p, n, x)) for p in deciles]\n",
    "for p, L in liks:\n",
    "    print(f\"p={p:>3.1f}  L={L:.12f}\")\n"
   ]
  },
  {
   "cell_type": "markdown",
   "metadata": {
    "id": "-INGaYFtM-Cp"
   },
   "source": [
    "## Exercise 3\n",
    "\n",
    "Not feeling convinced by your single experiment (good scientist!), you repeat it under identical conditions. This time you measure 5 quanta that were released. Your sample size has now doubled, to two measurements. You now want to take into account both measurements when you assess the likelihoods of different possible values of the underlying release probability. To do so, assume that the two measurements in this sample are independent of one another; that is, the value of each result had no bearing on the other. In this case, the total likelihood is simply the product of the likelihoods associated with each separate measurement. It is also typical to compute the logarithm of each likelihood and take their sum, which is often more convenient. What are the values of the total likelihood and total log-likelihood in this example, if we assume that the true release probability is 0.1?\n",
    "\n",
    "Of course, knowing those values of the likelihood and log-likelihood is not particularly useful until you can compare them to the values computed for other possible values for the release probability, so you can determine which value of release probability is most likely, given the data. Therefore, compute the full likelihood and log-likelihood functions using deciles of release probability between 0 and 1. What is the maximum value? Can you improve your estimate by computing the functions at a higher resolution? How does the estimate improve as you increase the sample size?"
   ]
  },
  {
   "cell_type": "markdown",
   "metadata": {},
   "source": [
    "# Answer: Part 1: total likelihood and total log-likelihood at p = 0.1"
   ]
  },
  {
   "cell_type": "code",
   "execution_count": 14,
   "metadata": {},
   "outputs": [],
   "source": [
    "import math\n",
    "import numpy as np\n",
    "\n",
    "# Problem setup\n",
    "n = 14                  # available quanta per activation\n",
    "x_obs = [8, 5]          # two independent measurements\n",
    "x_total = sum(x_obs)\n",
    "N_total = n * len(x_obs)\n",
    "\n",
    "def binom_likelihood_single(p: float, n: int, x: int) -> float:\n",
    "    \"\"\"Single-binomial likelihood P(X=x | n,p).\"\"\"\n",
    "    if p <= 0.0:\n",
    "        return 1.0 if x == 0 else 0.0\n",
    "    if p >= 1.0:\n",
    "        return 1.0 if x == n else 0.0\n",
    "    return math.comb(n, x) * (p**x) * ((1 - p)**(n - x))\n",
    "\n",
    "def joint_likelihood(p: float, n: int, xs) -> float:\n",
    "    \"\"\"Product of independent likelihoods across observations.\"\"\"\n",
    "    L = 1.0\n",
    "    for x in xs:\n",
    "        L *= binom_likelihood_single(p, n, x)\n",
    "    return L\n",
    "\n",
    "def joint_loglikelihood(p: float, n: int, xs) -> float:\n",
    "    \"\"\"Sum of log-likelihoods; returns -inf if any term is zero.\"\"\"\n",
    "    if p <= 0.0 or p >= 1.0:\n",
    "        for x in xs:\n",
    "            if (p == 0.0 and x > 0) or (p == 1.0 and x < n):\n",
    "                return float(\"-inf\")\n",
    "        return 0.0\n",
    "    return sum(math.log(binom_likelihood_single(p, n, x)) for x in xs)\n"
   ]
  },
  {
   "cell_type": "code",
   "execution_count": 15,
   "metadata": {},
   "outputs": [
    {
     "name": "stdout",
     "output_type": "stream",
     "text": [
      "Two measurements x=[8, 5] with n=14 each\n",
      "At p=0.1:  joint likelihood = 1.237818721500e-07,   joint log-likelihood = -15.904744915931\n",
      "\n"
     ]
    }
   ],
   "source": [
    "# 1) Values at p = 0.1 (asked explicitly)\n",
    "p_test = 0.1\n",
    "L_01 = joint_likelihood(p_test, n, x_obs)\n",
    "logL_01 = joint_loglikelihood(p_test, n, x_obs)\n",
    "print(f\"Two measurements x={x_obs} with n={n} each\")\n",
    "print(f\"At p={p_test:.1f}:  joint likelihood = {L_01:.12e},   joint log-likelihood = {logL_01:.12f}\\n\")\n"
   ]
  },
  {
   "cell_type": "markdown",
   "metadata": {},
   "source": [
    "# Answer:  Part 2: Full likelihood and log-likelihood functions using deciles of release probability between 0 and 1, and p at maximum L (occurs at p = 0.5)"
   ]
  },
  {
   "cell_type": "code",
   "execution_count": 20,
   "metadata": {},
   "outputs": [
    {
     "name": "stdout",
     "output_type": "stream",
     "text": [
      "Deciles (p) | Joint Likelihood L(p) | Joint Log-Likelihood logL(p)\n",
      " 0.0      0.000000000000e+00          -inf\n",
      " 0.1      1.237818721500e-07          -15.904744915931\n",
      " 0.2      1.732842750806e-04          -8.660577103498\n",
      " 0.3      4.550575422829e-03          -5.392501587460\n",
      " 0.4      1.897003133922e-02          -3.964894842995\n",
      " 0.5      2.239646762609e-02          -3.798852027820\n",
      " 0.6      8.431125039654e-03          -4.775825059212\n",
      " 0.7      8.358199756217e-04          -7.087097308234\n",
      " 0.8      1.083026719254e-05          -11.433165825738\n",
      " 0.9      1.528171261111e-09          -20.299194070604\n",
      " 1.0      0.000000000000e+00          -inf\n",
      "\n",
      "Argmax over deciles: p = 0.5,  L = 2.239646762609e-02,  logL = -3.798852027820\n"
     ]
    }
   ],
   "source": [
    "# 2) Likelihood and log-likelihood over deciles p=0.0..1.0\n",
    "deciles = [i/10 for i in range(11)]\n",
    "rows = [(p, joint_likelihood(p, n, x_obs), joint_loglikelihood(p, n, x_obs)) for p in deciles]\n",
    "\n",
    "print(\"Deciles (p) | Joint Likelihood L(p) | Joint Log-Likelihood logL(p)\")\n",
    "for p, L, logL in rows:\n",
    "    print(f\"{p:>4.1f}      {L:.12e}          {logL: .12f}\")\n",
    "\n",
    "# Argmax over deciles\n",
    "p_star_dec, L_star_dec, logL_star_dec = max(rows, key=lambda t: t[1])\n",
    "print(f\"\\nArgmax over deciles: p = {p_star_dec:.1f},  L = {L_star_dec:.12e},  logL = {logL_star_dec:.12f}\")\n"
   ]
  },
  {
   "cell_type": "markdown",
   "metadata": {},
   "source": [
    "# Answer:  Part 3: Can you improve your estimate by computing the functions at a higher resolution? "
   ]
  },
  {
   "cell_type": "markdown",
   "metadata": {},
   "source": [
    "# \n",
    "Yes, computing the likelihood on a finer grid (or using the closed-form MLE) improves the estimate toward p = 0.4643"
   ]
  },
  {
   "cell_type": "code",
   "execution_count": 21,
   "metadata": {},
   "outputs": [
    {
     "name": "stdout",
     "output_type": "stream",
     "text": [
      "\n",
      "Closed-form MLE: p_hat = x_total / N_total = 13/28 = 0.464285714286\n",
      "L(p_hat) = 2.405619821701e-02,  logL(p_hat) = -3.727362593514\n",
      "Numerical grid argmax: p* ≈ 0.464285000071,  L ≈ 2.405619821632e-02\n"
     ]
    }
   ],
   "source": [
    "# 3) Higher resolution & closed-form MLE\n",
    "# Closed-form MLE for independent binomials: p_hat = total successes / total trials\n",
    "p_hat = x_total / N_total\n",
    "L_hat = joint_likelihood(p_hat, n, x_obs)\n",
    "logL_hat = joint_loglikelihood(p_hat, n, x_obs)\n",
    "print(f\"\\nClosed-form MLE: p_hat = x_total / N_total = {x_total}/{N_total} = {p_hat:.12f}\")\n",
    "print(f\"L(p_hat) = {L_hat:.12e},  logL(p_hat) = {logL_hat:.12f}\")\n",
    "\n",
    "# Dense numerical check (grid)\n",
    "grid = np.linspace(1e-9, 1 - 1e-9, 200_001)\n",
    "# Use log-likelihood for stability; exponentiate only at the max\n",
    "def joint_loglikelihood_safe(p):\n",
    "    if p <= 0.0 or p >= 1.0:\n",
    "        return float(\"-inf\")\n",
    "    # fast log-choose using lgamma\n",
    "    s = 0.0\n",
    "    for x in x_obs:\n",
    "        s += (math.lgamma(n+1) - math.lgamma(x+1) - math.lgamma(n-x+1) +\n",
    "              x * math.log(p) + (n - x) * math.log(1 - p))\n",
    "    return s\n",
    "\n",
    "logLs = np.array([joint_loglikelihood_safe(float(p)) for p in grid])\n",
    "i_max = int(np.argmax(logLs))\n",
    "p_star_grid = float(grid[i_max])\n",
    "L_star_grid = float(math.exp(logLs[i_max]))\n",
    "print(f\"Numerical grid argmax: p* ≈ {p_star_grid:.12f},  L ≈ {L_star_grid:.12e}\")"
   ]
  },
  {
   "cell_type": "markdown",
   "metadata": {},
   "source": [
    "# Answer: Part 4: How does the estimate improve as you increase the sample size?"
   ]
  },
  {
   "cell_type": "markdown",
   "metadata": {},
   "source": [
    "##\n",
    "as sample size grows, the estimator’s uncertainty shrinks and estimate becomes more precise."
   ]
  },
  {
   "cell_type": "code",
   "execution_count": 22,
   "metadata": {},
   "outputs": [
    {
     "name": "stdout",
     "output_type": "stream",
     "text": [
      "\n",
      "Approximate SE of p-hat vs. number of measurements m (each with n=14):\n",
      "m=  2  SE≈ 0.094250\n",
      "m=  3  SE≈ 0.076955\n",
      "m=  5  SE≈ 0.059609\n",
      "m= 10  SE≈ 0.042150\n",
      "m= 20  SE≈ 0.029804\n",
      "m= 50  SE≈ 0.018850\n",
      "m=100  SE≈ 0.013329\n"
     ]
    }
   ],
   "source": [
    "# 4) Precision vs. sample size (SE of p-hat ≈ sqrt(p(1-p)/N_total))\n",
    "def se_phat(p_est: float, n: int, m_obs: int) -> float:\n",
    "    N = n * m_obs\n",
    "    return math.sqrt(p_est * (1 - p_est) / N)\n",
    "\n",
    "print(\"\\nApproximate SE of p-hat vs. number of measurements m (each with n=14):\")\n",
    "for m in [2, 3, 5, 10, 20, 50, 100]:\n",
    "    print(f\"m={m:>3d}  SE≈ {se_phat(p_hat, n, m):.6f}\")"
   ]
  },
  {
   "cell_type": "markdown",
   "metadata": {
    "id": "GCN6aNp1N0nC"
   },
   "source": [
    "## Exercise 4\n",
    "\n",
    "You keep going and conduct 100 separate experiments and end up with these results:\n",
    "\n",
    "Measured releases\t| Count\n",
    "---------------- | -------\n",
    "0 | 0\n",
    "1 | 0\n",
    "2 | 3\n",
    "3 | 7\n",
    "4 | 10\n",
    "5 | 19\n",
    "6 | 26\n",
    "7 | 16\n",
    "8 | 16\n",
    "9 | 5\n",
    "10 | 5\n",
    "11 | 0\n",
    "12 | 0\n",
    "13 | 0\n",
    "14 | 0\n",
    "\n",
    "What is the most likely value of *p* (which we typically refer to as $\\hat{p}$, which is pronounced as \"p-hat\" and represents the maximum-likelihood estimate of a parameter in the population given our sample with a resolution of 0.01? \n",
    "\n",
    "BONUS: Use a fitting procedure to find $\\hat{p}$."
   ]
  },
  {
   "cell_type": "markdown",
   "metadata": {},
   "source": [
    "## Answer:\n",
    "Based on this data distribution, the maximum-likelihood estimate is p-hat≈0.44 on a sample resolution of 0.01 grid.\n",
    "\n",
    "Bonus: A Newton–Raphson fit to maximize the joint log-likelihood returns the same p-hat ≈ 0.4359 (potential rounding error due to grid resolution)"
   ]
  },
  {
   "cell_type": "code",
   "execution_count": 26,
   "metadata": {},
   "outputs": [
    {
     "name": "stdout",
     "output_type": "stream",
     "text": [
      "# experiments M = 107, total successes S = 653, trials per experiment n = 14\n",
      "Grid (0.01 resolution) -> p^ = 0.44\n",
      "Newton fit (check)         -> p^ = 0.435914552737\n"
     ]
    }
   ],
   "source": [
    "import math\n",
    "import numpy as np\n",
    "\n",
    "# Observed histogram across 14 available quanta per experiment\n",
    "# (from the table you gave)\n",
    "counts = {0:0, 1:0, 2:3, 3:7, 4:10, 5:19, 6:26, 7:16, 8:16, 9:5, 10:5, 11:0, 12:0, 13:0, 14:0}\n",
    "n = 14  # trials per experiment (available quanta)\n",
    "M = sum(counts.values())                           # number of experiments (NOTE: this sums to 107)\n",
    "S = sum(k * c for k, c in counts.items())          # total released quanta across all experiments\n",
    "\n",
    "# --- Likelihood helpers ---\n",
    "def loglik(p: float) -> float:\n",
    "    \"\"\"Joint log-likelihood for independent Binomial(n,p) observations summarized by 'counts'.\"\"\"\n",
    "    if p <= 0.0 or p >= 1.0:\n",
    "        return float(\"-inf\")\n",
    "    s = 0.0\n",
    "    for k, c in counts.items():\n",
    "        if c == 0:\n",
    "            continue\n",
    "        # log[ C(n,k) p^k (1-p)^(n-k) ]\n",
    "        s += c * (math.lgamma(n+1) - math.lgamma(k+1) - math.lgamma(n-k+1) +\n",
    "                  k * math.log(p) + (n-k) * math.log(1 - p))\n",
    "    return s\n",
    "\n",
    "# 1) Grid search with resolution 0.01\n",
    "grid = np.linspace(0.00, 1.00, 101)\n",
    "# Avoid exact 0/1 in log-likelihood; replace by -inf so they won't win\n",
    "grid_ll = [loglik(float(p)) if (0.0 < p < 1.0) else float(\"-inf\") for p in grid]\n",
    "p_hat_grid = float(grid[int(np.argmax(grid_ll))])\n",
    "\n",
    "# 2) Closed-form MLE (also what a \"fit\" should return) and a Newton check\n",
    "# For independent Binomial data, MLE is total successes / total trials.\n",
    "p_hat_closed = S / (n * M)\n",
    "\n",
    "def dloglik(p: float) -> float:\n",
    "    # derivative of log-likelihood\n",
    "    s = 0.0\n",
    "    for k, c in counts.items():\n",
    "        s += c * (k / p - (n - k) / (1 - p))\n",
    "    return s\n",
    "\n",
    "def d2loglik(p: float) -> float:\n",
    "    # second derivative\n",
    "    s = 0.0\n",
    "    for k, c in counts.items():\n",
    "        s += c * (-k / p**2 - (n - k) / (1 - p)**2)\n",
    "    return s\n",
    "\n",
    "def newton_fit(p0=0.5, tol=1e-12, iters=50):\n",
    "    p = p0\n",
    "    for _ in range(iters):\n",
    "        g, H = dloglik(p), d2loglik(p)\n",
    "        step = g / H\n",
    "        p_new = p - step\n",
    "        p_new = min(max(p_new, 1e-12), 1 - 1e-12)  # keep inside (0,1)\n",
    "        if abs(p_new - p) < tol:\n",
    "            return p_new\n",
    "        p = p_new\n",
    "    return p\n",
    "\n",
    "p_hat_newton = newton_fit()\n",
    "\n",
    "print(f\"# experiments M = {M}, total successes S = {S}, trials per experiment n = {n}\")\n",
    "print(f\"Grid (0.01 resolution) -> p^ = {p_hat_grid:.2f}\")\n",
    "print(f\"Newton fit (check)         -> p^ = {p_hat_newton:.12f}\")\n"
   ]
  },
  {
   "cell_type": "markdown",
   "metadata": {
    "id": "9BZG29IBSo6E"
   },
   "source": [
    "## Exercise 5\n",
    "\n",
    "Let's say that you have run an exhaustive set of experiments on this synapse and have determined that the true release probability is 0.3 (within some very small tolerance). Now you want to test whether changing the temperature of the preparation affects the release probability. So you change the temperature, perform the experiment, and measure 7 quantal events for the same 14 available quanta. Compute $\\hat{p}$. Standard statistical inference now asks the question, what is the probability that you would have obtained that measurement given a Null Hypothesis of no effect? In this case, no effect corresponds to an unchanged value of the true release probability (i.e., its value remained at 0.3 even with the temperature change). What is the probability that you would have gotten that measurement if your Null Hypothesis were true? Can you conclude that temperature had an effect?"
   ]
  },
  {
   "cell_type": "markdown",
   "metadata": {},
   "source": [
    "# Answer \n",
    "\n",
    "Under a null hypothesis at 𝑝 = 0.3, the probability of measuring exactly 7 releases is P(X=7)=0.061813 (log-likelihood − 2.7836 −2.7836). The one-sided p-value for an increase (P(X≥7)) is 0.09328; exact two-sided p-values are 0.18656 (doubling the smaller tail) or 0.14076 (binomial-test style). Because all exceed 0.05, so I cannot conclude that temperature changed the release probability based on this single post-temperature measurement."
   ]
  },
  {
   "cell_type": "code",
   "execution_count": 28,
   "metadata": {},
   "outputs": [
    {
     "name": "stdout",
     "output_type": "stream",
     "text": [
      "P(X=7 | n=14, p0=0.3) = 0.061813358727\n",
      "log-likelihood = -2.783635777245\n",
      "One-sided p-value P(X >= 7) = 0.093281891163\n",
      "Two-sided p-value (2*min-tail) = 0.186563782326\n",
      "Two-sided p-value (exact)      = 0.140757506262\n"
     ]
    }
   ],
   "source": [
    "import math\n",
    "\n",
    "# Setup\n",
    "n = 14          # available quanta (trials)\n",
    "x = 7           # observed released quanta (successes)\n",
    "p0 = 0.3        # Null-hypothesis release probability\n",
    "\n",
    "def binom_pmf(n, p, k):\n",
    "    return math.comb(n, k) * (p**k) * ((1 - p)**(n - k))\n",
    "\n",
    "# 1) Likelihood of the observed result under H0 (point probability)\n",
    "L = binom_pmf(n, p0, x)\n",
    "logL = math.log(L)\n",
    "\n",
    "# 2) Exact p-values under H0\n",
    "# One-sided (testing p > p0 since x > n*p0): P(X >= x)\n",
    "p_ge = sum(binom_pmf(n, p0, k) for k in range(x, n + 1))\n",
    "\n",
    "# Two-sided (common \"double the smaller tail\")\n",
    "p_two_sided_double = min(1.0, 2.0 * min(p_ge,\n",
    "                                         sum(binom_pmf(n, p0, k) for k in range(0, x + 1))))\n",
    "\n",
    "# Two-sided (exact/binomial-test style: sum of probabilities <= P(X=x))\n",
    "px = L\n",
    "p_two_sided_exact = sum(binom_pmf(n, p0, k) for k in range(0, n + 1)\n",
    "                        if binom_pmf(n, p0, k) <= px + 1e-18)\n",
    "\n",
    "print(f\"P(X={x} | n={n}, p0={p0}) = {L:.12f}\")\n",
    "print(f\"log-likelihood = {logL:.12f}\")\n",
    "print(f\"One-sided p-value P(X >= {x}) = {p_ge:.12f}\")\n",
    "print(f\"Two-sided p-value (2*min-tail) = {p_two_sided_double:.12f}\")\n",
    "print(f\"Two-sided p-value (exact)      = {p_two_sided_exact:.12f}\")\n"
   ]
  },
  {
   "cell_type": "markdown",
   "metadata": {
    "id": "UFYyaeLwTb35"
   },
   "source": [
    "## Bonus Exercise\n",
    "\n",
    "These data are reproduced from Tables 1 and 2 of Johnson and Wernig. Note that *nx* indicates the number of trials (\"release events\") with *x* measured events. Each row is a separate experiment (don't worry about the ordering, which here is reproduced as it is in the paper).\n",
    "\n",
    "Temp (°C)\t| n0\t| n1\t| n2\t| n3\t| n4\t| n5+\n",
    "--- | --| --- | --- | --- | --- | ---\n",
    "4.0\t| 615\t| 206\t| 33\t| 2\t| 0\t| 0\n",
    "3.5\t| 604\t| 339\t| 94\t| 11\t| 2\t| 0\n",
    "0.0 | \t332\t| 126\t| 21\t| 1\t| 0\t| 0\n",
    "2.0\t| 573\t| 443\t| 154\t| 28\t| 2\t| 0\n",
    "6.5\t| 172\t| 176\t| 89\t| 12\t| 1\t| 0\n",
    "3.0\t| 80\t| 224\t| 200\t| 32\t| 4\t| 0\n",
    "\n",
    "You can probably already see that some experiments resulted in primarily zero or one events per trial (e.g., the top experiment), whereas others tended to have more events (e.g., the bottom experiment).\n",
    "\n",
    "Do the quantal event numbers follow a binomial distribution? If so, then that would lend support to the idea that the events are generated by a process that can be characterized in terms of the number of available quanta and the average probability of release of each quantum.\n",
    "\n",
    "Provide a qualitative answer to this question by comparing the empirical distributions (see the data table, above) to the predicted binomial distribution. To get the predicted distribution (i.e., the probabilities associated with each value of *k* from Eq. 1, given the release probability p and the number of available quanta *n*), you need to determine both *k* and *n* from the empirical measurements. To determine *p*, use Eq. 5 in the paper: $p=1-\\frac{\\sigma ^{2}}{m}$\n",
    "\n",
    "where $\\sigma ^{2}$ is the variance and *m* is the mean of the trial-by-trial counts that can be determined from the data. To determine *n*, compute *m*/*p* (because *m* = *n* x *p*).\n",
    "\n",
    "As an added bonus, also include the predicted Poisson distribution, which can be computed using only the mean number of events (*m*, described above).\n",
    "\n"
   ]
  },
  {
   "cell_type": "markdown",
   "metadata": {
    "id": "TxctXRrXQqv4"
   },
   "source": [
    "# Additional Resources\n",
    "\n",
    "Working with the binomial distribution in [Matlab](https://www.mathworks.com/help/stats/binomial-distribution.html), [R](https://www.rdocumentation.org/packages/stats/versions/3.3/topics/Binomial), and [Python](https://docs.scipy.org/doc/scipy/reference/generated/scipy.stats.binom.html)."
   ]
  },
  {
   "cell_type": "markdown",
   "metadata": {
    "id": "tteEm2Qlgbb3"
   },
   "source": [
    "# Credits\n",
    "\n",
    "Copyright 2021 by Joshua I. Gold, University of Pennsylvania"
   ]
  }
 ],
 "metadata": {
  "colab": {
   "collapsed_sections": [
    "pKIiY6p3GRFq",
    "bkVu6eGKIIiQ",
    "u3yXPCmMH2CH",
    "NPyYR5dgJ4Q9",
    "VveIEEiyLUSk",
    "eG7Kvl5pL4jf",
    "-INGaYFtM-Cp",
    "GCN6aNp1N0nC",
    "9BZG29IBSo6E",
    "UFYyaeLwTb35"
   ],
   "name": "Biomial Distribution",
   "provenance": [
    {
     "file_id": "14S2ca44h8TKC1hFXjk5ktwBYpGU6R5S-",
     "timestamp": 1624411796822
    }
   ]
  },
  "kernelspec": {
   "display_name": "Python 3 (ipykernel)",
   "language": "python",
   "name": "python3"
  },
  "language_info": {
   "codemirror_mode": {
    "name": "ipython",
    "version": 3
   },
   "file_extension": ".py",
   "mimetype": "text/x-python",
   "name": "python",
   "nbconvert_exporter": "python",
   "pygments_lexer": "ipython3",
   "version": "3.9.11"
  }
 },
 "nbformat": 4,
 "nbformat_minor": 4
}
