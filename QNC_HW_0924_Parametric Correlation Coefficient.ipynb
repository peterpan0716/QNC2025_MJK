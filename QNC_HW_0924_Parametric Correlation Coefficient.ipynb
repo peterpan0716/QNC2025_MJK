{
 "cells": [
  {
   "cell_type": "markdown",
   "metadata": {
    "id": "pKIiY6p3GRFq"
   },
   "source": [
    "# Definitions"
   ]
  },
  {
   "cell_type": "markdown",
   "metadata": {
    "id": "x7VmLUr5GTNw"
   },
   "source": [
    "Correlation is a measure of association between measured (random) variables. The Pearson's correlation coefficient quantifies the strength of this association on a simple scale: it varies between -1 and 1. The larger the absolute value of this correlation coefficient, the tighter the correlation and more predictive it is. The smaller the absolute value, the weaker the correlation and less predictive. Positive values imply a positive correlation: as I eat more ice cream, my weight goes up. Negative values imply a negative correlation: as I eat more ice cream, my weight goes down (wouldn't that be great!). \n",
    "\n",
    "The Pearson's correlation coefficient is called parametric because it assumes a parametric form of the distributions of the two random variables, $X$ and $Y$; specifically, that both variables are [normally distributed](https://colab.research.google.com/drive/1-KxH3FCq5rDyyO33HXxewIv-kKldkINi?usp=sharing)."
   ]
  },
  {
   "cell_type": "markdown",
   "metadata": {
    "id": "IyCyVIIDH0rb"
   },
   "source": [
    "# Computing for a population"
   ]
  },
  {
   "cell_type": "markdown",
   "metadata": {
    "id": "sYDtxlCZH5BC"
   },
   "source": [
    "When you have full knowledge of the joint distribution of $𝑋$ and $Y$ (e.g., when working with an idealized model, not with real, finite data sets), the Pearson's correlation coefficient is typically denoted as $\\rho$ and computed in terms of the covariance between the two variables, normalized by the product of their individual standard deviations:\n",
    "\n",
    "$\\quad\\rho_{X,Y}=\\frac{cov(X,Y)}{\\sigma_x\\sigma_y}$\n",
    "\n",
    "where\n",
    "\n",
    "$\\quad cov(X,Y)=E\\left [ (X-\\mu_X)(Y-\\mu_Y)\\right ]$\n",
    "\n",
    "in which $\\mu_X$ and $\\mu_Y$ are the means of $X$ and $Y$, respectively, and $E\\left[\\right]$ denotes expected value."
   ]
  },
  {
   "cell_type": "markdown",
   "metadata": {
    "id": "xDpz-ktIJGhf"
   },
   "source": [
    "# Computing for a sample"
   ]
  },
  {
   "cell_type": "markdown",
   "metadata": {
    "id": "c-qA27fbJM6k"
   },
   "source": [
    "When working with real data, you have a [sample, not a population](https://colab.research.google.com/drive/1SnVM1MPaFvMSjlDLyihgeZ25OAk-k4Nk?usp=sharing), and thus need to compute the correlation coefficient (typically denoted as *r*) using sample statistics."
   ]
  },
  {
   "cell_type": "markdown",
   "metadata": {
    "id": "9LJSqIDXJZ4f"
   },
   "source": [
    "## Sample Pearson's correlation coefficient"
   ]
  },
  {
   "cell_type": "markdown",
   "metadata": {
    "id": "Ytr0p-0MJcld"
   },
   "source": [
    "$\\quad r_{X,Y}=\\frac{\\sum^n_{i-1}{(x_i-\\bar{x})(y_i-\\bar{y})}}{\\sqrt{\\sum^n_{i-1}{(x_i-\\bar{x})^2}}\\sqrt{\\sum^n_{i-1}{(y_i-\\bar{y})^2}}}$\n",
    "\n",
    "where\n",
    "\n",
    "$\\quad \\bar{x}=\\frac{1}{n}\\sum^n_{i=1}{x_i,\\bar{y}}=\\frac{1}{n}\\sum^n_{i=1}{y_i}$\n",
    "\n",
    "are the sample means."
   ]
  },
  {
   "cell_type": "markdown",
   "metadata": {
    "id": "F2at-qokKj34"
   },
   "source": [
    "## Coefficient of determination"
   ]
  },
  {
   "cell_type": "markdown",
   "metadata": {
    "id": "KHOpKncgKoJP"
   },
   "source": [
    "It is possible to compute $r_{X,Y}$ not just when $X$ and $Y$ are two random variables, but also when one is a random (dependent) variable (typically $Y$) and the other is an independent or explanatory variable (typically $X$). In this case, the square of the correlation coefficient ($r^2$) quantifies the total variation in one variable ($Y$) that is explained by the regression line with respect to the other variable ($X$). This quantity is called the **coefficient of determination** and is often referred to as the fraction of explained variance"
   ]
  },
  {
   "cell_type": "markdown",
   "metadata": {
    "id": "dRpX2JmfLAo7"
   },
   "source": [
    "## Standard error of the sample Pearson's correlation coefficient"
   ]
  },
  {
   "cell_type": "markdown",
   "metadata": {
    "id": "WAWhhqGfLDrG"
   },
   "source": [
    "The standard error of the sample *r* is computed by assuming that r follows a [Student's t distribution](https://colab.research.google.com/drive/1Q_Du5NK71Rc1qu-byh8dy8Fs39uvR_4n?usp=sharing) with two degrees of freedom (because of the two variables):\n",
    "\n",
    "$\\quad s_r=\\sqrt{\\frac{1-r^2}{n-2}}$\n",
    "\n",
    "Note that \"standard error\" refers in general to the standard deviation of a statistical estimate, which here is *r*. It is not the same thing as the \"standard error of the mean\", which refers to the standard deviation of a statistical estimate of a mean."
   ]
  },
  {
   "cell_type": "markdown",
   "metadata": {
    "id": "4yGAhXVULi3C"
   },
   "source": [
    "## Confidence intervals for the sample Pearson's correlation coefficient"
   ]
  },
  {
   "cell_type": "markdown",
   "metadata": {
    "id": "-YIP1v0vLla_"
   },
   "source": [
    "This is a bit tricker to compute, because r is not normally distributed, particularly around the extreme values (e.g., around 1, the distribution cannot go higher than one but can take many values <1). We therefore need to do the following (a good explanation is [here](http://faculty.washington.edu/gloftus/P317-318/Useful_Information/r_to_z/PearsonrCIs.pdf)):\n",
    "\n",
    "1\\. Take the Fisher's z-transformation of r:\n",
    "\n",
    "$\\quad z=0.5\\times ln(\\frac{1+r}{1-r})$\n",
    "\n",
    "2\\. Compute its standard deviation as:\n",
    "\n",
    "$\\quad s_z=\\sqrt{\\frac{1}{n-3}}$\n",
    "\n",
    "3\\. Compute confidence intervals in this z-space as we have shown [here](https://colab.research.google.com/drive/1rdJMusMZDTaM9OGsyt27tCVkSasmRj2O?usp=sharing), as: \n",
    "\n",
    "$\\quad z \\pm (z\\:criterion) \\times s_z$\n",
    "\n",
    "where the *z* criterion is determined from the desired confidence value using a [z-score calculator](http://www.z-table.com) or [norminv](https://www.mathworks.com/help/stats/norminv.html) in Matlab.\n",
    "\n",
    "4\\. Then translate each *z* value back to *r* as:\n",
    "\n",
    "$\\quad r=\\frac{e^{2z}-1}{e^{2z}+1}$\n"
   ]
  },
  {
   "cell_type": "markdown",
   "metadata": {
    "id": "ELEb_vqYQGdK"
   },
   "source": [
    "## Hypothesis testing on the sample Pearson's correlation coefficient"
   ]
  },
  {
   "cell_type": "markdown",
   "metadata": {
    "id": "5VSSh3pMQIJf"
   },
   "source": [
    "For $H_0: r=0$. Here we are considering a null distribution that is centered at *r*=0. In this case, we know that the distribution of *r* around that mean is symmetric, and the sample mean follows follows a [Student's *t* distribution](https://colab.research.google.com/drive/1Q_Du5NK71Rc1qu-byh8dy8Fs39uvR_4n?usp=sharing).  Therefore, our test statistic is simply the *t* statistic, which we compute as the residual (with respect to zero) of *r* divided by its standard error:\n",
    "\n",
    "$\\quad t=\\frac{r}{s_r}$\n",
    "\n",
    "with $n-2$ degrees of freedom.\n",
    "\n",
    "For $H_0: r=r_s,\\:where\\:r_s\\ne 0$. Here we are considering null distributions that are not centered at $r=0$ and therefore are not symmetric and do not follow a *t* distribution. We therefore first compute the *z* transformation of $r$ and $r_s$, as above. Now our test statistic is:\n",
    "\n",
    "$\\quad \\lambda =\\frac{z_r-z_{rs}}{\\sqrt{\\frac{1}{n-3}}}$\n",
    "\n",
    "with $n-2$ degrees of freedom.\n",
    "\n"
   ]
  },
  {
   "cell_type": "markdown",
   "metadata": {
    "id": "nvmWeSSHSF95"
   },
   "source": [
    "# Exercises"
   ]
  },
  {
   "cell_type": "markdown",
   "metadata": {
    "id": "bki88QRVSaj8"
   },
   "source": [
    "Let's examine the relationship between these two measured variables:\n",
    "\n",
    "Wing length | Tail length\n",
    "--- | ---\n",
    "10.4 | 7.4\n",
    "10.8 | 7.6\n",
    "11.1 | 7.9\n",
    "10.2 | 7.2\n",
    "10.3 | 7.4\n",
    "10.2 | 7.1\n",
    "10.7 | 7.4\n",
    "10.5 | 7.2\n",
    "10.8 | 7.8\n",
    "11.2 | 7.7\n",
    "10.6 | 7.8\n",
    "11.4 | 8.3\n",
    "\n",
    "Assume Wing length is the $X$ variable and Tail Length is the $Y$ variable, both measured in cm.\n",
    "\n",
    "Answers to the questions below will be found [here](https://github.com/PennNGG/Quantitative-Neuroscience/tree/master/Answers%20to%20Exercises/Python) after the due date."
   ]
  },
  {
   "cell_type": "markdown",
   "metadata": {
    "id": "zIfgeegzTlJl"
   },
   "source": [
    "##### 1\\. Plot X vs Y. Do they look related?"
   ]
  },
  {
   "cell_type": "code",
   "execution_count": 1,
   "metadata": {},
   "outputs": [
    {
     "data": {
      "image/png": "[encoded data removed]",
      "text/plain": [
       "<Figure size 640x480 with 1 Axes>"
      ]
     },
     "metadata": {},
     "output_type": "display_data"
    }
   ],
   "source": [
    "# Q1. Plot X (Wing length) vs Y (Tail length)\n",
    "\n",
    "import matplotlib.pyplot as plt\n",
    "\n",
    "# Data (cm)\n",
    "X = [10.4, 10.8, 11.1, 10.2, 10.3, 10.2, 10.7, 10.5, 10.8, 11.2, 10.6, 11.4]  # Wing length (X)\n",
    "Y = [7.4, 7.6, 7.9, 7.2, 7.4, 7.1, 7.4, 7.2, 7.8, 7.7, 7.8, 8.3]             # Tail length (Y)\n",
    "\n",
    "plt.figure()\n",
    "plt.scatter(X, Y)\n",
    "plt.title(\"Wing length (X) vs Tail length (Y)\")\n",
    "plt.xlabel(\"Wing length (cm)\")\n",
    "plt.ylabel(\"Tail length (cm)\")\n",
    "plt.grid(True)\n",
    "plt.show()\n"
   ]
  },
  {
   "cell_type": "markdown",
   "metadata": {},
   "source": [
    "## Yes—points trend upward; they look positively (roughly linearly) related."
   ]
  },
  {
   "cell_type": "markdown",
   "metadata": {
    "id": "v4ihoOv0TzTk"
   },
   "source": [
    "##### 2\\. Calculate $r_{X,Y}$ and $r_{Y,X}$, first using the equations above and then using either the Python numpy funciton [corrcoef](https://numpy.org/doc/stable/reference/generated/numpy.corrcoef.html) or Matlab's built-in [corrcoef](https://www.mathworks.com/help/matlab/ref/corrcoef.html). Did you get the same answers?"
   ]
  },
  {
   "cell_type": "code",
   "execution_count": 2,
   "metadata": {},
   "outputs": [
    {
     "name": "stdout",
     "output_type": "stream",
     "text": [
      "Manual r:       0.870355\n",
      "numpy.corrcoef: 0.870355\n",
      "Difference:     1.110223e-16\n"
     ]
    }
   ],
   "source": [
    "# Q2. Compute Pearson r two ways: (i) manual formula, (ii) numpy.corrcoef\n",
    "\n",
    "import numpy as np\n",
    "\n",
    "X = np.array([10.4, 10.8, 11.1, 10.2, 10.3, 10.2, 10.7, 10.5, 10.8, 11.2, 10.6, 11.4])\n",
    "Y = np.array([7.4, 7.6, 7.9, 7.2, 7.4, 7.1, 7.4, 7.2, 7.8, 7.7, 7.8, 8.3])\n",
    "\n",
    "# (i) Manual\n",
    "xbar, ybar = X.mean(), Y.mean()\n",
    "r_manual = np.sum((X - xbar)*(Y - ybar)) / np.sqrt(np.sum((X - xbar)**2) * np.sum((Y - ybar)**2))\n",
    "\n",
    "# (ii) numpy.corrcoef\n",
    "r_np = np.corrcoef(X, Y)[0, 1]\n",
    "\n",
    "print(f\"Manual r:       {r_manual:.6f}\")\n",
    "print(f\"numpy.corrcoef: {r_np:.6f}\")\n",
    "print(f\"Difference:     {abs(r_manual - r_np):.6e}\")\n"
   ]
  },
  {
   "cell_type": "markdown",
   "metadata": {},
   "source": [
    "## Answer: 𝑟 ≈ 0.870355 r≈0.870355 both ways; they match (difference ~ 10 − 16 10 −16 )."
   ]
  },
  {
   "cell_type": "markdown",
   "metadata": {
    "id": "XqoZSFdZU5zg"
   },
   "source": [
    "##### 3\\. What is the standard error of $r_{X,Y}$? The 95% confidence intervals computed from the standard error?"
   ]
  },
  {
   "cell_type": "code",
   "execution_count": 3,
   "metadata": {},
   "outputs": [
    {
     "name": "stdout",
     "output_type": "stream",
     "text": [
      "r = 0.870355\n",
      "Standard error of r (delta method): SE_r = 0.080828\n",
      "95% CI for r (Fisher z method): [0.592311, 0.963160]\n"
     ]
    }
   ],
   "source": [
    "# Q3. Standard error of r and 95% CI (via Fisher z transform)\n",
    "import numpy as np, math\n",
    "\n",
    "# Data\n",
    "X = np.array([10.4, 10.8, 11.1, 10.2, 10.3, 10.2, 10.7, 10.5, 10.8, 11.2, 10.6, 11.4])\n",
    "Y = np.array([7.4, 7.6, 7.9, 7.2, 7.4, 7.1, 7.4, 7.2, 7.8, 7.7, 7.8, 8.3])\n",
    "n = len(X)\n",
    "\n",
    "r = np.corrcoef(X, Y)[0, 1]\n",
    "\n",
    "# Fisher z transform\n",
    "z = np.arctanh(r)\n",
    "se_z = 1 / math.sqrt(n - 3)\n",
    "\n",
    "# Delta-method SE for r\n",
    "se_r = (1 - r**2) * se_z\n",
    "\n",
    "# 95% CI using Fisher z\n",
    "zcrit = 1.959963984540054\n",
    "ci_z = (z - zcrit*se_z, z + zcrit*se_z)\n",
    "ci_r = (math.tanh(ci_z[0]), math.tanh(ci_z[1]))\n",
    "\n",
    "print(f\"r = {r:.6f}\")\n",
    "print(f\"Standard error of r (delta method): SE_r = {se_r:.6f}\")\n",
    "print(f\"95% CI for r (Fisher z method): [{ci_r[0]:.6f}, {ci_r[1]:.6f}]\")\n"
   ]
  },
  {
   "cell_type": "markdown",
   "metadata": {},
   "source": [
    "## SE r ​ ≈0.08083. 95% CI ≈ [ 0.5923 , 0.9632 ] ≈[0.5923,0.9632] (Fisher-z)"
   ]
  },
  {
   "cell_type": "markdown",
   "metadata": {
    "id": "sU0UjR6uVMl2"
   },
   "source": [
    "##### 4\\. Should the value of $r_{X,Y}$ be considered significant at the *p*<0.05 level, given a two-tailed test (i.e., we reject if the test statistic is too large on either tail of the null distribution) for $H_0: r_{X,Y}=0$?"
   ]
  },
  {
   "cell_type": "code",
   "execution_count": 4,
   "metadata": {},
   "outputs": [
    {
     "name": "stdout",
     "output_type": "stream",
     "text": [
      "r = 0.870355\n",
      "t(10) = 5.5893,  two-tailed p = 0.000231106\n",
      "Significant at alpha=0.05? YES\n"
     ]
    }
   ],
   "source": [
    "# Q4. Test significance of r (H0: rho = 0), two-tailed alpha=0.05\n",
    "\n",
    "import numpy as np\n",
    "from math import sqrt\n",
    "from scipy import stats\n",
    "\n",
    "X = np.array([10.4, 10.8, 11.1, 10.2, 10.3, 10.2, 10.7, 10.5, 10.8, 11.2, 10.6, 11.4])\n",
    "Y = np.array([7.4, 7.6, 7.9, 7.2, 7.4, 7.1, 7.4, 7.2, 7.8, 7.7, 7.8, 8.3])\n",
    "n = len(X)\n",
    "\n",
    "r = np.corrcoef(X, Y)[0, 1]\n",
    "t_stat = r * sqrt((n - 2) / (1 - r**2))\n",
    "p_two_tailed = 2 * stats.t.sf(abs(t_stat), df=n - 2)\n",
    "\n",
    "print(f\"r = {r:.6f}\")\n",
    "print(f\"t({n-2}) = {t_stat:.4f},  two-tailed p = {p_two_tailed:.6g}\")\n",
    "print(\"Significant at alpha=0.05?\" , \"YES\" if p_two_tailed < 0.05 else \"NO\")\n"
   ]
  },
  {
   "cell_type": "markdown",
   "metadata": {},
   "source": [
    "## t 10 ​ =5.5893, 𝑝 ≈ 2.31 × 10 − 4 p≈2.31×10 −4 ⇒ YES, significant."
   ]
  },
  {
   "cell_type": "markdown",
   "metadata": {
    "id": "mywqPzz3Vg0I"
   },
   "source": [
    "##### 5\\. Yale does the exact same study and finds that his correlation value is 0.75. Is this the same as yours? That is, evaluate $𝐻_0: r=0.75$."
   ]
  },
  {
   "cell_type": "code",
   "execution_count": 5,
   "metadata": {},
   "outputs": [
    {
     "name": "stdout",
     "output_type": "stream",
     "text": [
      "Our r: 0.870355, Yale r: 0.750000\n",
      "z = 0.7670, two-tailed p = 0.4431\n",
      "Same at alpha=0.05? YES (no significant difference)\n"
     ]
    }
   ],
   "source": [
    "# Q5. Compare our r with Yale's r = 0.75 (H0: rho1 = rho2), using Fisher r-to-z test.\n",
    "# Assumption: Yale used the same sample size (n2 = 12).\n",
    "\n",
    "import numpy as np, math\n",
    "\n",
    "r1 = 0.8703545613058227  # from our data\n",
    "r2 = 0.75                # Yale's reported correlation\n",
    "n1 = 12\n",
    "n2 = 12  # assumption\n",
    "\n",
    "z1 = np.arctanh(r1)\n",
    "z2 = np.arctanh(r2)\n",
    "se_diff = math.sqrt(1/(n1 - 3) + 1/(n2 - 3))\n",
    "z_stat = (z1 - z2) / se_diff\n",
    "\n",
    "# Two-tailed p-value under standard normal\n",
    "from math import erf, sqrt\n",
    "p_two_tailed = 2 * (1 - 0.5*(1 + erf(abs(z_stat)/sqrt(2))))\n",
    "\n",
    "print(f\"Our r: {r1:.6f}, Yale r: {r2:.6f}\")\n",
    "print(f\"z = {z_stat:.4f}, two-tailed p = {p_two_tailed:.4f}\")\n",
    "print(\"Same at alpha=0.05?\" , \"YES (no significant difference)\" if p_two_tailed >= 0.05 else \"NO (significant difference)\")\n"
   ]
  },
  {
   "cell_type": "markdown",
   "metadata": {},
   "source": [
    "## z≈0.767, 𝑝 ≈ 0.443 p≈0.443 ⇒ no significant difference (assuming both 𝑛 = 12 n=12)."
   ]
  },
  {
   "cell_type": "markdown",
   "metadata": {
    "id": "qYW4bBQ7Vxa-"
   },
   "source": [
    "##### 6\\. Finally, calculate the statistical power and sample size needed to reject $H_0:r=0\\:when\\:r\\ge 0.5$."
   ]
  },
  {
   "cell_type": "code",
   "execution_count": 6,
   "metadata": {},
   "outputs": [
    {
     "name": "stdout",
     "output_type": "stream",
     "text": [
      "Observed r ≈ 0.870355\n",
      "Power at n=12 (alpha=0.05, two-tailed): 0.980\n",
      "Min sample size for 80% power (alpha=0.05, two-tailed, effect=r_obs): n = 8\n",
      "Power at that n: 0.847\n"
     ]
    }
   ],
   "source": [
    "# Q6. Statistical power (for our n=12, alpha=0.05) and sample size to achieve 80% power to reject H0: rho=0\n",
    "import math, numpy as np\n",
    "\n",
    "r_obs = 0.8703545613058227\n",
    "alpha = 0.05\n",
    "\n",
    "def power_corr(n, rho_true, alpha=0.05, rho0=0.0):\n",
    "    # Fisher z method: Z ~ Normal(atanh(rho), 1/sqrt(n-3))\n",
    "    se = 1/math.sqrt(n - 3)\n",
    "    zcrit = 1.959963984540054  # two-tailed alpha=0.05\n",
    "    mu0 = np.arctanh(rho0)\n",
    "    mu1 = np.arctanh(rho_true)\n",
    "    lower = mu0 - zcrit*se\n",
    "    upper = mu0 + zcrit*se\n",
    "    # Power = P(Z <= lower) + P(Z >= upper) under H1 ~ N(mu1, se)\n",
    "    from math import erf, sqrt\n",
    "    def Phi(z): return 0.5*(1 + erf(z/sqrt(2)))\n",
    "    return Phi((lower - mu1)/se) + (1 - Phi((upper - mu1)/se))\n",
    "\n",
    "# Power with our sample size n=12 and effect ~ r_obs\n",
    "power_n12 = power_corr(12, r_obs, alpha=alpha)\n",
    "\n",
    "# Small helper to get minimum n for target power (e.g., 0.8)\n",
    "def min_n_for_power(target_power, rho_true, alpha=0.05, nmax=500):\n",
    "    for n in range(4, nmax+1):  # n>=4 for Fisher z\n",
    "        if power_corr(n, rho_true, alpha) >= target_power:\n",
    "            return n\n",
    "    return None\n",
    "\n",
    "n_for_80 = min_n_for_power(0.80, r_obs, alpha=alpha)\n",
    "power_at_n_for_80 = power_corr(n_for_80, r_obs, alpha=alpha)\n",
    "\n",
    "print(f\"Observed r ≈ {r_obs:.6f}\")\n",
    "print(f\"Power at n=12 (alpha=0.05, two-tailed): {power_n12:.3f}\")\n",
    "print(f\"Min sample size for 80% power (alpha=0.05, two-tailed, effect=r_obs): n = {n_for_80}\")\n",
    "print(f\"Power at that n: {power_at_n_for_80:.3f}\")\n"
   ]
  },
  {
   "cell_type": "markdown",
   "metadata": {},
   "source": [
    "## With 𝑛 = 12 n=12 and effect 𝜌 ^ ≈ 0.87 ρ ^ ​ ≈0.87, power ≈ 0.98 ≈0.98. Minimum 𝑛 n for 80% power at 𝛼 = 0.05 α=0.05 is 8 (gives ~0.85 power)."
   ]
  },
  {
   "cell_type": "markdown",
   "metadata": {
    "id": "UqoNXyuxP-go"
   },
   "source": [
    "# Additional Resources\n"
   ]
  },
  {
   "cell_type": "code",
   "execution_count": null,
   "metadata": {},
   "outputs": [],
   "source": []
  },
  {
   "cell_type": "markdown",
   "metadata": {
    "id": "clnBO4FU28El"
   },
   "source": [
    "- Differences between correlation and regression are discussed [here](https://www.bmj.com/about-bmj/resources-readers/publications/statistics-square-one/11-correlation-and-regression) and [here](http://www.biostathandbook.com/linearregression.html).\n",
    "\n",
    "- A reference on [how to choose the appropriate measure of association](https://journals.sagepub.com/doi/pdf/10.1177/8756479308317006) (Khamis 2008)."
   ]
  },
  {
   "cell_type": "markdown",
   "metadata": {
    "id": "tteEm2Qlgbb3"
   },
   "source": [
    "# Credits\n",
    "\n",
    "Copyright 2021 by Joshua I. Gold, University of Pennsylvania"
   ]
  }
 ],
 "metadata": {
  "colab": {
   "collapsed_sections": [
    "IyCyVIIDH0rb",
    "xDpz-ktIJGhf",
    "ELEb_vqYQGdK",
    "NUeNn8deHBch",
    "nvmWeSSHSF95",
    "zIfgeegzTlJl",
    "v4ihoOv0TzTk",
    "XqoZSFdZU5zg",
    "sU0UjR6uVMl2",
    "mywqPzz3Vg0I",
    "qYW4bBQ7Vxa-"
   ],
   "name": "Parametric Correlation Coefficient",
   "provenance": [
    {
     "file_id": "1dvkIh9KgmzwwJ7phFBxkHmS3nFTKN_yo",
     "timestamp": 1626368223618
    },
    {
     "file_id": "1AmfvDhhfviRQFvONiUVUba_6hof8RDp6",
     "timestamp": 1626367834690
    },
    {
     "file_id": "1wTKRgKK5eDUya7FZRHeu1RaoY7kuhiGi",
     "timestamp": 1626364730636
    },
    {
     "file_id": "1rdJMusMZDTaM9OGsyt27tCVkSasmRj2O",
     "timestamp": 1626357708093
    },
    {
     "file_id": "1HW0L_d5Wpod3jbnY3iG7mLhMG6yWHvF2",
     "timestamp": 1626350171621
    },
    {
     "file_id": "1-KxH3FCq5rDyyO33HXxewIv-kKldkINi",
     "timestamp": 1626290714843
    },
    {
     "file_id": "14S2ca44h8TKC1hFXjk5ktwBYpGU6R5S-",
     "timestamp": 1624411796822
    }
   ]
  },
  "kernelspec": {
   "display_name": "Python 3 (ipykernel)",
   "language": "python",
   "name": "python3"
  },
  "language_info": {
   "codemirror_mode": {
    "name": "ipython",
    "version": 3
   },
   "file_extension": ".py",
   "mimetype": "text/x-python",
   "name": "python",
   "nbconvert_exporter": "python",
   "pygments_lexer": "ipython3",
   "version": "3.9.11"
  }
 },
 "nbformat": 4,
 "nbformat_minor": 4
}
