{
 "cells": [
  {
   "cell_type": "markdown",
   "metadata": {},
   "source": [
    "[![Open In Colab](https://colab.research.google.com/assets/colab-badge.svg)](https://colab.research.google.com/github/PennNGG/Quantitative-Neuroscience/blob/master/Concepts/Python/Multiple%20Comparisons.ipynb)"
   ]
  },
  {
   "cell_type": "markdown",
   "metadata": {
    "id": "pKIiY6p3GRFq"
   },
   "source": [
    "# Definitions"
   ]
  },
  {
   "cell_type": "markdown",
   "metadata": {
    "id": "x7VmLUr5GTNw"
   },
   "source": [
    "The multiple comparisons problem in statistics occurs when multiple statistical inferences are done simultaneously, which greatly increases the probability that any one inference will yield an erroneous result, by chance. A lot has been written about this problem, including:\n",
    "\n",
    "- [Its prevalence in fMRI data analysis](https://www.sciencedirect.com/science/article/pii/S1053811912007057?via%3Dihub) (including a compelling illustration by this [prizewinning study](https://blogs.scientificamerican.com/scicurious-brain/ignobel-prize-in-neuroscience-the-dead-salmon-study/)\\)\n",
    "\n",
    "- [How Baysian methods can avoid the problem](http://www.stat.columbia.edu/~gelman/research/published/multiple2f.pdf).\n",
    "\n",
    "- [General approaches for correcting for multiple comparisons](http://www.biostathandbook.com/multiplecomparisons.html).\n",
    "\n",
    "Here we will provide some intuition for the problem using a simple thought experiment, to sensitize you to how much of a problem it can be. Consider performing the same statistical test on *N* different samples corresponding to, say, different voxels in fMRI data, using a *p*-value of $\\alpha$ (typically 0.05) for each test. \n",
    "\n",
    "Thus, for any one test, the probability of getting a Type I error (rejecting $H_0$ when $H_0$ is true) is $\\alpha$:\n",
    "\n",
    "$p_{error}=\\alpha$\n",
    "\n",
    "For two tests, the probably of getting a Type I error for either test is just one minus the combined probability of not getting a Type I error from either one:\n",
    "\n",
    "$p_{error}=1-(1-\\alpha)(1-\\alpha)$\n",
    "\n",
    "For *N* tests, the probably of getting a Type I error for either test is just one minus the combined probability of not getting a Type I error from any one:\n",
    "\n",
    "$p_{error}=1-(1-\\alpha)^N$\n",
    "\n",
    "Run the cell below to see that the probability of getting a Type I error under these conditions grows rapidly with *N*, implying that it becomes very, very likely that you will get a \"statistically significant result\" just by chance if you do enough tests:"
   ]
  },
  {
   "cell_type": "code",
   "execution_count": 1,
   "metadata": {
    "colab": {
     "base_uri": "https://localhost:8080/",
     "height": 296
    },
    "executionInfo": {
     "elapsed": 525,
     "status": "ok",
     "timestamp": 1632488611022,
     "user": {
      "displayName": "Andy Revell",
      "photoUrl": "https://lh3.googleusercontent.com/a-/AOh14Gj5gNTTY1RDZJBZaP8Pnu_AnG7Wlu4JydmSsiPWXA=s64",
      "userId": "00217113324745895537"
     },
     "user_tz": 240
    },
    "id": "2hOkXUd67ulE",
    "outputId": "be1f4885-b013-4e1d-8cbc-80e1dbfd7006"
   },
   "outputs": [
    {
     "data": {
      "text/plain": [
       "Text(0, 0.5, '$P_{error}$')"
      ]
     },
     "execution_count": 1,
     "metadata": {},
     "output_type": "execute_result"
    },
    {
     "data": {
      "image/png": "[encoded data removed]",
      "text/plain": [
       "<Figure size 640x480 with 1 Axes>"
      ]
     },
     "metadata": {},
     "output_type": "display_data"
    }
   ],
   "source": [
    "import matplotlib.pyplot as plt\n",
    "import numpy as np\n",
    "\n",
    "alpha = 0.05\n",
    "N = np.arange(0,100)\n",
    "plt.plot(N, 1-(1-alpha)**N)\n",
    "plt.xlabel('N')\n",
    "plt.ylabel('$P_{error}$')"
   ]
  },
  {
   "cell_type": "markdown",
   "metadata": {
    "id": "mzkMd-fc9cVM"
   },
   "source": [
    "# Correcting for multiple comparisons"
   ]
  },
  {
   "cell_type": "markdown",
   "metadata": {
    "id": "ncsvEVZB9gNS"
   },
   "source": [
    "\n",
    "\n",
    "There are a number of different methods that can be used to [correct for this problem](https://www.ncbi.nlm.nih.gov/pmc/articles/PMC5506159/). Below are two common methods.\n",
    "\n",
    "\n"
   ]
  },
  {
   "cell_type": "markdown",
   "metadata": {
    "id": "S7_LgTOk9sPr"
   },
   "source": [
    "## Bonferroni correction"
   ]
  },
  {
   "cell_type": "markdown",
   "metadata": {
    "id": "-N0vdWBq9vNU"
   },
   "source": [
    "The simplest way to correct for Type I errors (false positives) in multiple comparisons is to divide $\\alpha$ by the number of comparisons, known as the [Bonferroni correction](https://mathworld.wolfram.com/BonferroniCorrection.html). This is a very conservative test that is typically used when the number of comparisons is relatively small and you want to avoid Type I errors."
   ]
  },
  {
   "cell_type": "markdown",
   "metadata": {
    "id": "_YxAlI859900"
   },
   "source": [
    "## Benjamini–Hochberg procedure\n"
   ]
  },
  {
   "cell_type": "markdown",
   "metadata": {
    "id": "dSE9u8cN-A9U"
   },
   "source": [
    "Another approach is to more carefully control the false-discovery rate using the [Benjamini–Hochberg procedure](https://www.jstor.org/stable/2346101?seq=1#metadata_info_tab_contents):\n",
    "\n",
    "1\\. Rank the individual *p*-values in ascending order, labeled *i*=1...*n*\n",
    "\n",
    "2\\. For each *p*-value, calculate its \"critical value\" as (*i*/*n*)*Q*, where *i* is the rank, *n* is the total number of tests, and *Q* is the false discovery rate (a percentage) that you choose (typically 0.05).\n",
    "\n",
    "3\\. In your rank-ordered, original *p*-values, find the largest value that is smaller than its associated critical value; this *p*-value is the new criterion (i.e., reject $H_0$ for all cases for which *p* ≤ this value)."
   ]
  },
  {
   "cell_type": "code",
   "execution_count": null,
   "metadata": {},
   "outputs": [],
   "source": []
  },
  {
   "cell_type": "markdown",
   "metadata": {},
   "source": [
    "# Exercise"
   ]
  },
  {
   "cell_type": "markdown",
   "metadata": {},
   "source": [
    "In this exercise we will run through an example of correcting for multiple comparisons with both the Benjamini-Hochberg procedure and the more conservative Bonferroni correction. \n",
    "\n",
    "First, simulate multiple (say, 1000) t-tests comparing two samples with equal means and standard deviations, and save the p-values. Obviously, at p<0.05 we expect that ~5% of the simulations to yield a \"statistically significant\" result (of rejecting the NULL hypothesis that the samples come from distributions with equal means).\n",
    "\n",
    "Second, once you have the simulated p-values, apply both methods to address the multiple comparisons problem.\n",
    "\n",
    "Third, set the sample 1 and sample 2 means to be 1 and 2 respectively, and re-run the exercise. What do you notice? What if you make the difference between means even greater?"
   ]
  },
  {
   "cell_type": "markdown",
   "metadata": {},
   "source": [
    "## Part 1: Simulating Multiple T-tests"
   ]
  },
  {
   "cell_type": "code",
   "execution_count": 2,
   "metadata": {},
   "outputs": [
    {
     "name": "stdout",
     "output_type": "stream",
     "text": [
      "Uncorrected: 46/1000 significant (0.046)\n"
     ]
    }
   ],
   "source": [
    "# Block 1 — simulate null t-tests and save p-values\n",
    "import numpy as np\n",
    "from scipy import stats\n",
    "\n",
    "rng = np.random.default_rng(123)\n",
    "n_tests = 1000\n",
    "n_per_group = 30\n",
    "mu1 = mu2 = 0.0\n",
    "sigma = 1.0\n",
    "\n",
    "pvals_null = np.empty(n_tests)\n",
    "for i in range(n_tests):\n",
    "    x = rng.normal(mu1, sigma, n_per_group)\n",
    "    y = rng.normal(mu2, sigma, n_per_group)\n",
    "    t, p = stats.ttest_ind(x, y, equal_var=False)  # Welch t-test\n",
    "    pvals_null[i] = p\n",
    "\n",
    "alpha = 0.05\n",
    "print(f\"Uncorrected: {np.sum(pvals_null < alpha)}/{n_tests} significant \"\n",
    "      f\"({np.mean(pvals_null < alpha):.3f})\")\n"
   ]
  },
  {
   "cell_type": "markdown",
   "metadata": {},
   "source": [
    "## Part 2: Applying both methods to address the multiple comparisons problem."
   ]
  },
  {
   "cell_type": "code",
   "execution_count": 3,
   "metadata": {},
   "outputs": [
    {
     "name": "stdout",
     "output_type": "stream",
     "text": [
      "Bonferroni: threshold=0.000050, rejections=0/1000\n",
      "BH (q=0.05): threshold=0.000000, rejections=0/1000\n"
     ]
    }
   ],
   "source": [
    "# Block 2 — apply Bonferroni and BH (FDR) to the null p-values\n",
    "import numpy as np\n",
    "\n",
    "def benjamini_hochberg(pvals, q=0.05):\n",
    "    p = np.asarray(pvals, dtype=float)\n",
    "    n = p.size\n",
    "    order = np.argsort(p)\n",
    "    ranked = p[order]\n",
    "    crit = (np.arange(1, n + 1) / n) * q\n",
    "    below = ranked <= crit\n",
    "    if not np.any(below):\n",
    "        thresh = 0.0\n",
    "        reject_ordered = np.zeros(n, dtype=bool)\n",
    "    else:\n",
    "        k = np.max(np.where(below)[0])\n",
    "        thresh = ranked[k]\n",
    "        reject_ordered = ranked <= thresh\n",
    "    reject = np.zeros(n, dtype=bool)\n",
    "    reject[order] = reject_ordered\n",
    "    return reject, float(thresh)\n",
    "\n",
    "alpha = 0.05\n",
    "N = len(pvals_null)\n",
    "\n",
    "# Bonferroni\n",
    "bonf_thresh = alpha / N\n",
    "bonf_reject = pvals_null <= bonf_thresh\n",
    "\n",
    "# BH\n",
    "bh_reject, bh_thresh = benjamini_hochberg(pvals_null, q=0.05)\n",
    "\n",
    "print(f\"Bonferroni: threshold={bonf_thresh:.6f}, rejections={bonf_reject.sum()}/{N}\")\n",
    "print(f\"BH (q=0.05): threshold={bh_thresh:.6f}, rejections={bh_reject.sum()}/{N}\")\n"
   ]
  },
  {
   "cell_type": "markdown",
   "metadata": {},
   "source": [
    "## Part 3: Setting the sample 1 and sample 2 means to be 1 and 2 "
   ]
  },
  {
   "cell_type": "code",
   "execution_count": 1,
   "metadata": {},
   "outputs": [
    {
     "name": "stdout",
     "output_type": "stream",
     "text": [
      "Moderate effect Δ=1 (μ1=1.0, μ2=2.0)\n",
      "  Uncorrected: 975/1000 (0.975)\n",
      "  Bonferroni:  341/1000\n",
      "  BH (q=0.05): 974/1000 (threshold=0.048173)\n",
      "Larger effect Δ=2 (μ1=0.0, μ2=2.0)\n",
      "  Uncorrected: 1000/1000 (1.000)\n",
      "  Bonferroni:  999/1000\n",
      "  BH (q=0.05): 1000/1000 (threshold=0.000078)\n",
      "Very large effect Δ=3 (μ1=0.0, μ2=3.0)\n",
      "  Uncorrected: 1000/1000 (1.000)\n",
      "  Bonferroni:  1000/1000\n",
      "  BH (q=0.05): 1000/1000 (threshold=0.000000)\n"
     ]
    }
   ],
   "source": [
    "# Block 3 — rerun with true mean differences and compare power vs corrections\n",
    "import numpy as np\n",
    "from scipy import stats\n",
    "\n",
    "rng = np.random.default_rng(456)\n",
    "alpha = 0.05\n",
    "n_tests = 1000\n",
    "n_per_group = 30\n",
    "\n",
    "def simulate_pvals(mu1, mu2, sigma=1.0, n_tests=1000, n_per_group=30, rng=None):\n",
    "    rng = np.random.default_rng() if rng is None else rng\n",
    "    pvals = np.empty(n_tests)\n",
    "    for i in range(n_tests):\n",
    "        x = rng.normal(mu1, sigma, n_per_group)\n",
    "        y = rng.normal(mu2, sigma, n_per_group)\n",
    "        t, p = stats.ttest_ind(x, y, equal_var=False)\n",
    "        pvals[i] = p\n",
    "    return pvals\n",
    "\n",
    "def benjamini_hochberg(pvals, q=0.05):\n",
    "    p = np.asarray(pvals, dtype=float)\n",
    "    n = p.size\n",
    "    order = np.argsort(p)\n",
    "    ranked = p[order]\n",
    "    crit = (np.arange(1, n + 1) / n) * q\n",
    "    below = ranked <= crit\n",
    "    if not np.any(below):\n",
    "        thresh = 0.0\n",
    "        reject_ordered = np.zeros(n, dtype=bool)\n",
    "    else:\n",
    "        k = np.max(np.where(below)[0])\n",
    "        thresh = ranked[k]\n",
    "        reject_ordered = ranked <= thresh\n",
    "    reject = np.zeros(n, dtype=bool)\n",
    "    reject[order] = reject_ordered\n",
    "    return reject, float(thresh)\n",
    "\n",
    "def summarize(mu1, mu2, label):\n",
    "    p = simulate_pvals(mu1, mu2, n_tests=n_tests, n_per_group=n_per_group, rng=rng)\n",
    "    uncorrected = np.sum(p < alpha)\n",
    "    bonf = np.sum(p <= alpha / len(p))\n",
    "    bh_reject, bh_thresh = benjamini_hochberg(p, q=0.05)\n",
    "    print(f\"{label} (μ1={mu1}, μ2={mu2})\")\n",
    "    print(f\"  Uncorrected: {uncorrected}/{n_tests} ({uncorrected/n_tests:.3f})\")\n",
    "    print(f\"  Bonferroni:  {bonf}/{n_tests}\")\n",
    "    print(f\"  BH (q=0.05): {bh_reject.sum()}/{n_tests} (threshold={bh_thresh:.6f})\")\n",
    "\n",
    "summarize(1.0, 2.0, \"Moderate effect Δ=1\")\n",
    "summarize(0.0, 2.0, \"Larger effect Δ=2\")\n",
    "summarize(0.0, 3.0, \"Very large effect Δ=3\")\n"
   ]
  },
  {
   "cell_type": "markdown",
   "metadata": {},
   "source": [
    "# Under the null (no true effect), ~5% of tests are “significant” uncorrected, but Bonferroni and BH typically yield 0 rejections—illustrating how they suppress false positives across many tests. With a true effect (Δ=1), BH retains high power (rejects most tests), while Bonferroni is more conservative (fewer rejections). As we increase the effect size (Δ=2, Δ=3), all methods rapidly approach ~100% rejections—the signal overwhelms the correction"
   ]
  },
  {
   "cell_type": "markdown",
   "metadata": {
    "id": "UqoNXyuxP-go"
   },
   "source": [
    "# Additional Resources\n"
   ]
  },
  {
   "cell_type": "markdown",
   "metadata": {
    "id": "clnBO4FU28El"
   },
   "source": [
    "How to correct for multiple comparisons in [Matlab](https://www.mathworks.com/help/stats/multcompare.html), [R](https://stat.ethz.ch/R-manual/R-devel/library/stats/html/p.adjust.html), and [Python](https://www.statsmodels.org/dev/generated/statsmodels.stats.multitest.multipletests.html)"
   ]
  },
  {
   "cell_type": "markdown",
   "metadata": {
    "id": "tteEm2Qlgbb3"
   },
   "source": [
    "# Credits\n",
    "\n",
    "Copyright 2021 by Joshua I. Gold, University of Pennsylvania"
   ]
  }
 ],
 "metadata": {
  "colab": {
   "collapsed_sections": [
    "pKIiY6p3GRFq"
   ],
   "name": "Multiple Comparisons",
   "provenance": [
    {
     "file_id": "1wTKRgKK5eDUya7FZRHeu1RaoY7kuhiGi",
     "timestamp": 1626364730636
    },
    {
     "file_id": "1rdJMusMZDTaM9OGsyt27tCVkSasmRj2O",
     "timestamp": 1626357708093
    },
    {
     "file_id": "1HW0L_d5Wpod3jbnY3iG7mLhMG6yWHvF2",
     "timestamp": 1626350171621
    },
    {
     "file_id": "1-KxH3FCq5rDyyO33HXxewIv-kKldkINi",
     "timestamp": 1626290714843
    },
    {
     "file_id": "14S2ca44h8TKC1hFXjk5ktwBYpGU6R5S-",
     "timestamp": 1624411796822
    }
   ],
   "toc_visible": true
  },
  "kernelspec": {
   "display_name": "Python 3 (ipykernel)",
   "language": "python",
   "name": "python3"
  },
  "language_info": {
   "codemirror_mode": {
    "name": "ipython",
    "version": 3
   },
   "file_extension": ".py",
   "mimetype": "text/x-python",
   "name": "python",
   "nbconvert_exporter": "python",
   "pygments_lexer": "ipython3",
   "version": "3.9.11"
  },
  "vscode": {
   "interpreter": {
    "hash": "aee8b7b246df8f9039afb4144a1f6fd8d2ca17a180786b69acc140d282b71a49"
   }
  }
 },
 "nbformat": 4,
 "nbformat_minor": 4
}
